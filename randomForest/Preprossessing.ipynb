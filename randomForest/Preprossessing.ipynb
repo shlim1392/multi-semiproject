{
 "cells": [
  {
   "cell_type": "markdown",
   "metadata": {},
   "source": [
    "Ensemble Learning 알고리즘을 활용하여 여행유형에 영향을미치는 주요요인을 파악하여 여행 유형을 예측 및 추천\n",
    "\n"
   ]
  },
  {
   "cell_type": "code",
   "execution_count": 80,
   "metadata": {},
   "outputs": [],
   "source": [
    "import matplotlib.pyplot as plt\n",
    "import matplotlib.font_manager as fm\n",
    "\n",
    "font_path = '/usr/share/fonts/truetype/nanum/NanumGothic.ttf'  \n",
    "font = fm.FontProperties(fname=font_path, size=10)\n",
    "plt.rc('font', family='NanumGothic')  \n",
    "plt.rcParams[\"font.family\"] = 'NanumGothic'  "
   ]
  },
  {
   "cell_type": "code",
   "execution_count": 81,
   "metadata": {},
   "outputs": [
    {
     "name": "stdout",
     "output_type": "stream",
     "text": [
      "<class 'pandas.core.frame.DataFrame'>\n",
      "RangeIndex: 52041 entries, 0 to 52040\n",
      "Columns: 2343 entries, ID to 국내_여행방문지_기타당일10\n",
      "dtypes: float64(2008), object(335)\n",
      "memory usage: 930.3+ MB\n",
      "None\n"
     ]
    }
   ],
   "source": [
    "import pandas as pd\n",
    "\n",
    "\n",
    "data_path = \"./myproject/DATA_2022년_국민여행조사_원자료_1.csv\"\n",
    "data = pd.read_csv(data_path, encoding='cp949', low_memory=False)\n",
    "train = data.copy()\n",
    "\n",
    "print(train.info())"
   ]
  },
  {
   "cell_type": "code",
   "execution_count": 82,
   "metadata": {},
   "outputs": [
    {
     "data": {
      "text/html": [
       "<div>\n",
       "<style scoped>\n",
       "    .dataframe tbody tr th:only-of-type {\n",
       "        vertical-align: middle;\n",
       "    }\n",
       "\n",
       "    .dataframe tbody tr th {\n",
       "        vertical-align: top;\n",
       "    }\n",
       "\n",
       "    .dataframe thead th {\n",
       "        text-align: right;\n",
       "    }\n",
       "</style>\n",
       "<table border=\"1\" class=\"dataframe\">\n",
       "  <thead>\n",
       "    <tr style=\"text-align: right;\">\n",
       "      <th></th>\n",
       "      <th>ID</th>\n",
       "      <th>SA1_1</th>\n",
       "      <th>SA1_2</th>\n",
       "      <th>SA1_3</th>\n",
       "      <th>SA1_4</th>\n",
       "      <th>SA1_5</th>\n",
       "      <th>MON_EXP_1</th>\n",
       "      <th>MON_EXP_2</th>\n",
       "      <th>MON_EXP_3</th>\n",
       "      <th>MON_EXP_4</th>\n",
       "      <th>MON_EXP_5</th>\n",
       "      <th>D_TRA1_CHECK</th>\n",
       "      <th>D_TRA1_CASE</th>\n",
       "      <th>D_TRA1_SYEAR</th>\n",
       "      <th>D_TRA1_SMONTH</th>\n",
       "      <th>D_TRA1_SDAY</th>\n",
       "      <th>D_TRA1_EYEAR</th>\n",
       "      <th>D_TRA1_EMONTH</th>\n",
       "      <th>D_TRA1_EDAY</th>\n",
       "      <th>D_TRA1_S_Day</th>\n",
       "      <th>D_TRA1_COST</th>\n",
       "      <th>D_TRA1_NUM</th>\n",
       "      <th>D_TRA1_ONE_COST</th>\n",
       "      <th>D_TRA1_VAC</th>\n",
       "      <th>D_TRA1_1_SYEAR</th>\n",
       "      <th>D_TRA1_1_SMONTH</th>\n",
       "      <th>D_TRA1_1_SDAY</th>\n",
       "      <th>D_TRA1_1_EYEAR</th>\n",
       "      <th>D_TRA1_1_EMONTH</th>\n",
       "      <th>D_TRA1_1_EDAY</th>\n",
       "      <th>D_TRA1_1_SPOT</th>\n",
       "      <th>D_TRA1_1_Q6_Ar</th>\n",
       "      <th>D_TRA1_1_Q6</th>\n",
       "      <th>D_TRA1_2_SYEAR</th>\n",
       "      <th>D_TRA1_2_SMONTH</th>\n",
       "      <th>D_TRA1_2_SDAY</th>\n",
       "      <th>D_TRA1_2_EYEAR</th>\n",
       "      <th>D_TRA1_2_EMONTH</th>\n",
       "      <th>D_TRA1_2_EDAY</th>\n",
       "      <th>D_TRA1_2_SPOT</th>\n",
       "      <th>...</th>\n",
       "      <th>국내_여행방문지_관광당일1</th>\n",
       "      <th>국내_여행방문지_관광당일2</th>\n",
       "      <th>국내_여행방문지_관광당일3</th>\n",
       "      <th>국내_여행방문지_관광당일4</th>\n",
       "      <th>국내_여행방문지_관광당일5</th>\n",
       "      <th>국내_여행방문지_관광당일6</th>\n",
       "      <th>국내_여행방문지_관광당일7</th>\n",
       "      <th>국내_여행방문지_관광당일8</th>\n",
       "      <th>국내_여행방문지_관광당일9</th>\n",
       "      <th>국내_여행방문지_관광당일10</th>\n",
       "      <th>국내_여행방문지_기타전체1</th>\n",
       "      <th>국내_여행방문지_기타전체2</th>\n",
       "      <th>국내_여행방문지_기타전체3</th>\n",
       "      <th>국내_여행방문지_기타전체4</th>\n",
       "      <th>국내_여행방문지_기타전체5</th>\n",
       "      <th>국내_여행방문지_기타전체6</th>\n",
       "      <th>국내_여행방문지_기타전체7</th>\n",
       "      <th>국내_여행방문지_기타전체8</th>\n",
       "      <th>국내_여행방문지_기타전체9</th>\n",
       "      <th>국내_여행방문지_기타전체10</th>\n",
       "      <th>국내_여행방문지_기타숙박1</th>\n",
       "      <th>국내_여행방문지_기타숙박2</th>\n",
       "      <th>국내_여행방문지_기타숙박3</th>\n",
       "      <th>국내_여행방문지_기타숙박4</th>\n",
       "      <th>국내_여행방문지_기타숙박5</th>\n",
       "      <th>국내_여행방문지_기타숙박6</th>\n",
       "      <th>국내_여행방문지_기타숙박7</th>\n",
       "      <th>국내_여행방문지_기타숙박8</th>\n",
       "      <th>국내_여행방문지_기타숙박9</th>\n",
       "      <th>국내_여행방문지_기타숙박10</th>\n",
       "      <th>국내_여행방문지_기타당일1</th>\n",
       "      <th>국내_여행방문지_기타당일2</th>\n",
       "      <th>국내_여행방문지_기타당일3</th>\n",
       "      <th>국내_여행방문지_기타당일4</th>\n",
       "      <th>국내_여행방문지_기타당일5</th>\n",
       "      <th>국내_여행방문지_기타당일6</th>\n",
       "      <th>국내_여행방문지_기타당일7</th>\n",
       "      <th>국내_여행방문지_기타당일8</th>\n",
       "      <th>국내_여행방문지_기타당일9</th>\n",
       "      <th>국내_여행방문지_기타당일10</th>\n",
       "    </tr>\n",
       "  </thead>\n",
       "  <tbody>\n",
       "    <tr>\n",
       "      <th>0</th>\n",
       "      <td>11010550211_277566</td>\n",
       "      <td>0.0</td>\n",
       "      <td>0.0</td>\n",
       "      <td>0.0</td>\n",
       "      <td>0.0</td>\n",
       "      <td>0.0</td>\n",
       "      <td>아니오</td>\n",
       "      <td>아니오</td>\n",
       "      <td>아니오</td>\n",
       "      <td>아니오</td>\n",
       "      <td>아니오</td>\n",
       "      <td>NaN</td>\n",
       "      <td>NaN</td>\n",
       "      <td>NaN</td>\n",
       "      <td>NaN</td>\n",
       "      <td>NaN</td>\n",
       "      <td>NaN</td>\n",
       "      <td>NaN</td>\n",
       "      <td>NaN</td>\n",
       "      <td>NaN</td>\n",
       "      <td>NaN</td>\n",
       "      <td>NaN</td>\n",
       "      <td>NaN</td>\n",
       "      <td>NaN</td>\n",
       "      <td>NaN</td>\n",
       "      <td>NaN</td>\n",
       "      <td>NaN</td>\n",
       "      <td>NaN</td>\n",
       "      <td>NaN</td>\n",
       "      <td>NaN</td>\n",
       "      <td>NaN</td>\n",
       "      <td>NaN</td>\n",
       "      <td>NaN</td>\n",
       "      <td>NaN</td>\n",
       "      <td>NaN</td>\n",
       "      <td>NaN</td>\n",
       "      <td>NaN</td>\n",
       "      <td>NaN</td>\n",
       "      <td>NaN</td>\n",
       "      <td>NaN</td>\n",
       "      <td>...</td>\n",
       "      <td>NaN</td>\n",
       "      <td>NaN</td>\n",
       "      <td>NaN</td>\n",
       "      <td>NaN</td>\n",
       "      <td>NaN</td>\n",
       "      <td>NaN</td>\n",
       "      <td>NaN</td>\n",
       "      <td>NaN</td>\n",
       "      <td>NaN</td>\n",
       "      <td>NaN</td>\n",
       "      <td>NaN</td>\n",
       "      <td>NaN</td>\n",
       "      <td>NaN</td>\n",
       "      <td>NaN</td>\n",
       "      <td>NaN</td>\n",
       "      <td>NaN</td>\n",
       "      <td>NaN</td>\n",
       "      <td>NaN</td>\n",
       "      <td>NaN</td>\n",
       "      <td>NaN</td>\n",
       "      <td>NaN</td>\n",
       "      <td>NaN</td>\n",
       "      <td>NaN</td>\n",
       "      <td>NaN</td>\n",
       "      <td>NaN</td>\n",
       "      <td>NaN</td>\n",
       "      <td>NaN</td>\n",
       "      <td>NaN</td>\n",
       "      <td>NaN</td>\n",
       "      <td>NaN</td>\n",
       "      <td>NaN</td>\n",
       "      <td>NaN</td>\n",
       "      <td>NaN</td>\n",
       "      <td>NaN</td>\n",
       "      <td>NaN</td>\n",
       "      <td>NaN</td>\n",
       "      <td>NaN</td>\n",
       "      <td>NaN</td>\n",
       "      <td>NaN</td>\n",
       "      <td>NaN</td>\n",
       "    </tr>\n",
       "    <tr>\n",
       "      <th>1</th>\n",
       "      <td>11010550211_277569</td>\n",
       "      <td>1.0</td>\n",
       "      <td>0.0</td>\n",
       "      <td>0.0</td>\n",
       "      <td>0.0</td>\n",
       "      <td>0.0</td>\n",
       "      <td>예</td>\n",
       "      <td>아니오</td>\n",
       "      <td>아니오</td>\n",
       "      <td>아니오</td>\n",
       "      <td>아니오</td>\n",
       "      <td>Y</td>\n",
       "      <td>국내 관광/휴양 여행(가족/친지/친구 방문, 출장/업무 활동 없는 단순 관광/휴양 여행)</td>\n",
       "      <td>2022.0</td>\n",
       "      <td>1.0</td>\n",
       "      <td>15.0</td>\n",
       "      <td>2022.0</td>\n",
       "      <td>1.0</td>\n",
       "      <td>17.0</td>\n",
       "      <td>2.0</td>\n",
       "      <td>800000.0</td>\n",
       "      <td>5.0</td>\n",
       "      <td>160000.0</td>\n",
       "      <td>해당없음</td>\n",
       "      <td>2022.0</td>\n",
       "      <td>1.0</td>\n",
       "      <td>15.0</td>\n",
       "      <td>2022.0</td>\n",
       "      <td>1.0</td>\n",
       "      <td>15.0</td>\n",
       "      <td>강원도 삼척시</td>\n",
       "      <td>NaN</td>\n",
       "      <td>NaN</td>\n",
       "      <td>2022.0</td>\n",
       "      <td>1.0</td>\n",
       "      <td>15.0</td>\n",
       "      <td>2022.0</td>\n",
       "      <td>1.0</td>\n",
       "      <td>16.0</td>\n",
       "      <td>강원도 삼척시</td>\n",
       "      <td>...</td>\n",
       "      <td>NaN</td>\n",
       "      <td>NaN</td>\n",
       "      <td>NaN</td>\n",
       "      <td>NaN</td>\n",
       "      <td>NaN</td>\n",
       "      <td>NaN</td>\n",
       "      <td>NaN</td>\n",
       "      <td>NaN</td>\n",
       "      <td>NaN</td>\n",
       "      <td>NaN</td>\n",
       "      <td>NaN</td>\n",
       "      <td>NaN</td>\n",
       "      <td>NaN</td>\n",
       "      <td>NaN</td>\n",
       "      <td>NaN</td>\n",
       "      <td>NaN</td>\n",
       "      <td>NaN</td>\n",
       "      <td>NaN</td>\n",
       "      <td>NaN</td>\n",
       "      <td>NaN</td>\n",
       "      <td>NaN</td>\n",
       "      <td>NaN</td>\n",
       "      <td>NaN</td>\n",
       "      <td>NaN</td>\n",
       "      <td>NaN</td>\n",
       "      <td>NaN</td>\n",
       "      <td>NaN</td>\n",
       "      <td>NaN</td>\n",
       "      <td>NaN</td>\n",
       "      <td>NaN</td>\n",
       "      <td>NaN</td>\n",
       "      <td>NaN</td>\n",
       "      <td>NaN</td>\n",
       "      <td>NaN</td>\n",
       "      <td>NaN</td>\n",
       "      <td>NaN</td>\n",
       "      <td>NaN</td>\n",
       "      <td>NaN</td>\n",
       "      <td>NaN</td>\n",
       "      <td>NaN</td>\n",
       "    </tr>\n",
       "    <tr>\n",
       "      <th>2</th>\n",
       "      <td>11010550211_277571</td>\n",
       "      <td>0.0</td>\n",
       "      <td>0.0</td>\n",
       "      <td>0.0</td>\n",
       "      <td>0.0</td>\n",
       "      <td>0.0</td>\n",
       "      <td>아니오</td>\n",
       "      <td>아니오</td>\n",
       "      <td>아니오</td>\n",
       "      <td>아니오</td>\n",
       "      <td>아니오</td>\n",
       "      <td>NaN</td>\n",
       "      <td>NaN</td>\n",
       "      <td>NaN</td>\n",
       "      <td>NaN</td>\n",
       "      <td>NaN</td>\n",
       "      <td>NaN</td>\n",
       "      <td>NaN</td>\n",
       "      <td>NaN</td>\n",
       "      <td>NaN</td>\n",
       "      <td>NaN</td>\n",
       "      <td>NaN</td>\n",
       "      <td>NaN</td>\n",
       "      <td>NaN</td>\n",
       "      <td>NaN</td>\n",
       "      <td>NaN</td>\n",
       "      <td>NaN</td>\n",
       "      <td>NaN</td>\n",
       "      <td>NaN</td>\n",
       "      <td>NaN</td>\n",
       "      <td>NaN</td>\n",
       "      <td>NaN</td>\n",
       "      <td>NaN</td>\n",
       "      <td>NaN</td>\n",
       "      <td>NaN</td>\n",
       "      <td>NaN</td>\n",
       "      <td>NaN</td>\n",
       "      <td>NaN</td>\n",
       "      <td>NaN</td>\n",
       "      <td>NaN</td>\n",
       "      <td>...</td>\n",
       "      <td>NaN</td>\n",
       "      <td>NaN</td>\n",
       "      <td>NaN</td>\n",
       "      <td>NaN</td>\n",
       "      <td>NaN</td>\n",
       "      <td>NaN</td>\n",
       "      <td>NaN</td>\n",
       "      <td>NaN</td>\n",
       "      <td>NaN</td>\n",
       "      <td>NaN</td>\n",
       "      <td>NaN</td>\n",
       "      <td>NaN</td>\n",
       "      <td>NaN</td>\n",
       "      <td>NaN</td>\n",
       "      <td>NaN</td>\n",
       "      <td>NaN</td>\n",
       "      <td>NaN</td>\n",
       "      <td>NaN</td>\n",
       "      <td>NaN</td>\n",
       "      <td>NaN</td>\n",
       "      <td>NaN</td>\n",
       "      <td>NaN</td>\n",
       "      <td>NaN</td>\n",
       "      <td>NaN</td>\n",
       "      <td>NaN</td>\n",
       "      <td>NaN</td>\n",
       "      <td>NaN</td>\n",
       "      <td>NaN</td>\n",
       "      <td>NaN</td>\n",
       "      <td>NaN</td>\n",
       "      <td>NaN</td>\n",
       "      <td>NaN</td>\n",
       "      <td>NaN</td>\n",
       "      <td>NaN</td>\n",
       "      <td>NaN</td>\n",
       "      <td>NaN</td>\n",
       "      <td>NaN</td>\n",
       "      <td>NaN</td>\n",
       "      <td>NaN</td>\n",
       "      <td>NaN</td>\n",
       "    </tr>\n",
       "    <tr>\n",
       "      <th>3</th>\n",
       "      <td>11010550211_277572</td>\n",
       "      <td>1.0</td>\n",
       "      <td>0.0</td>\n",
       "      <td>0.0</td>\n",
       "      <td>0.0</td>\n",
       "      <td>0.0</td>\n",
       "      <td>예</td>\n",
       "      <td>아니오</td>\n",
       "      <td>아니오</td>\n",
       "      <td>아니오</td>\n",
       "      <td>아니오</td>\n",
       "      <td>Y</td>\n",
       "      <td>국내 관광/휴양 여행(가족/친지/친구 방문, 출장/업무 활동 없는 단순 관광/휴양 여행)</td>\n",
       "      <td>2022.0</td>\n",
       "      <td>1.0</td>\n",
       "      <td>9.0</td>\n",
       "      <td>2022.0</td>\n",
       "      <td>1.0</td>\n",
       "      <td>14.0</td>\n",
       "      <td>5.0</td>\n",
       "      <td>1000000.0</td>\n",
       "      <td>1.0</td>\n",
       "      <td>1000000.0</td>\n",
       "      <td>해당없음</td>\n",
       "      <td>2022.0</td>\n",
       "      <td>1.0</td>\n",
       "      <td>9.0</td>\n",
       "      <td>2022.0</td>\n",
       "      <td>1.0</td>\n",
       "      <td>9.0</td>\n",
       "      <td>제주특별자치도 서귀포시</td>\n",
       "      <td>NaN</td>\n",
       "      <td>NaN</td>\n",
       "      <td>2022.0</td>\n",
       "      <td>1.0</td>\n",
       "      <td>9.0</td>\n",
       "      <td>2022.0</td>\n",
       "      <td>1.0</td>\n",
       "      <td>10.0</td>\n",
       "      <td>제주특별자치도 서귀포시</td>\n",
       "      <td>...</td>\n",
       "      <td>NaN</td>\n",
       "      <td>NaN</td>\n",
       "      <td>NaN</td>\n",
       "      <td>NaN</td>\n",
       "      <td>NaN</td>\n",
       "      <td>NaN</td>\n",
       "      <td>NaN</td>\n",
       "      <td>NaN</td>\n",
       "      <td>NaN</td>\n",
       "      <td>NaN</td>\n",
       "      <td>NaN</td>\n",
       "      <td>NaN</td>\n",
       "      <td>NaN</td>\n",
       "      <td>NaN</td>\n",
       "      <td>NaN</td>\n",
       "      <td>NaN</td>\n",
       "      <td>NaN</td>\n",
       "      <td>NaN</td>\n",
       "      <td>NaN</td>\n",
       "      <td>NaN</td>\n",
       "      <td>NaN</td>\n",
       "      <td>NaN</td>\n",
       "      <td>NaN</td>\n",
       "      <td>NaN</td>\n",
       "      <td>NaN</td>\n",
       "      <td>NaN</td>\n",
       "      <td>NaN</td>\n",
       "      <td>NaN</td>\n",
       "      <td>NaN</td>\n",
       "      <td>NaN</td>\n",
       "      <td>NaN</td>\n",
       "      <td>NaN</td>\n",
       "      <td>NaN</td>\n",
       "      <td>NaN</td>\n",
       "      <td>NaN</td>\n",
       "      <td>NaN</td>\n",
       "      <td>NaN</td>\n",
       "      <td>NaN</td>\n",
       "      <td>NaN</td>\n",
       "      <td>NaN</td>\n",
       "    </tr>\n",
       "    <tr>\n",
       "      <th>4</th>\n",
       "      <td>11010550211_277588</td>\n",
       "      <td>1.0</td>\n",
       "      <td>0.0</td>\n",
       "      <td>0.0</td>\n",
       "      <td>0.0</td>\n",
       "      <td>0.0</td>\n",
       "      <td>예</td>\n",
       "      <td>아니오</td>\n",
       "      <td>아니오</td>\n",
       "      <td>아니오</td>\n",
       "      <td>아니오</td>\n",
       "      <td>Y</td>\n",
       "      <td>국내 관광/휴양 여행(가족/친지/친구 방문, 출장/업무 활동 없는 단순 관광/휴양 여행)</td>\n",
       "      <td>2022.0</td>\n",
       "      <td>1.0</td>\n",
       "      <td>30.0</td>\n",
       "      <td>2022.0</td>\n",
       "      <td>1.0</td>\n",
       "      <td>31.0</td>\n",
       "      <td>1.0</td>\n",
       "      <td>399999.0</td>\n",
       "      <td>3.0</td>\n",
       "      <td>133333.0</td>\n",
       "      <td>NaN</td>\n",
       "      <td>2022.0</td>\n",
       "      <td>1.0</td>\n",
       "      <td>30.0</td>\n",
       "      <td>2022.0</td>\n",
       "      <td>1.0</td>\n",
       "      <td>30.0</td>\n",
       "      <td>강원도 강릉시</td>\n",
       "      <td>NaN</td>\n",
       "      <td>NaN</td>\n",
       "      <td>2022.0</td>\n",
       "      <td>1.0</td>\n",
       "      <td>30.0</td>\n",
       "      <td>2022.0</td>\n",
       "      <td>1.0</td>\n",
       "      <td>30.0</td>\n",
       "      <td>강원도 강릉시</td>\n",
       "      <td>...</td>\n",
       "      <td>NaN</td>\n",
       "      <td>NaN</td>\n",
       "      <td>NaN</td>\n",
       "      <td>NaN</td>\n",
       "      <td>NaN</td>\n",
       "      <td>NaN</td>\n",
       "      <td>NaN</td>\n",
       "      <td>NaN</td>\n",
       "      <td>NaN</td>\n",
       "      <td>NaN</td>\n",
       "      <td>NaN</td>\n",
       "      <td>NaN</td>\n",
       "      <td>NaN</td>\n",
       "      <td>NaN</td>\n",
       "      <td>NaN</td>\n",
       "      <td>NaN</td>\n",
       "      <td>NaN</td>\n",
       "      <td>NaN</td>\n",
       "      <td>NaN</td>\n",
       "      <td>NaN</td>\n",
       "      <td>NaN</td>\n",
       "      <td>NaN</td>\n",
       "      <td>NaN</td>\n",
       "      <td>NaN</td>\n",
       "      <td>NaN</td>\n",
       "      <td>NaN</td>\n",
       "      <td>NaN</td>\n",
       "      <td>NaN</td>\n",
       "      <td>NaN</td>\n",
       "      <td>NaN</td>\n",
       "      <td>NaN</td>\n",
       "      <td>NaN</td>\n",
       "      <td>NaN</td>\n",
       "      <td>NaN</td>\n",
       "      <td>NaN</td>\n",
       "      <td>NaN</td>\n",
       "      <td>NaN</td>\n",
       "      <td>NaN</td>\n",
       "      <td>NaN</td>\n",
       "      <td>NaN</td>\n",
       "    </tr>\n",
       "    <tr>\n",
       "      <th>...</th>\n",
       "      <td>...</td>\n",
       "      <td>...</td>\n",
       "      <td>...</td>\n",
       "      <td>...</td>\n",
       "      <td>...</td>\n",
       "      <td>...</td>\n",
       "      <td>...</td>\n",
       "      <td>...</td>\n",
       "      <td>...</td>\n",
       "      <td>...</td>\n",
       "      <td>...</td>\n",
       "      <td>...</td>\n",
       "      <td>...</td>\n",
       "      <td>...</td>\n",
       "      <td>...</td>\n",
       "      <td>...</td>\n",
       "      <td>...</td>\n",
       "      <td>...</td>\n",
       "      <td>...</td>\n",
       "      <td>...</td>\n",
       "      <td>...</td>\n",
       "      <td>...</td>\n",
       "      <td>...</td>\n",
       "      <td>...</td>\n",
       "      <td>...</td>\n",
       "      <td>...</td>\n",
       "      <td>...</td>\n",
       "      <td>...</td>\n",
       "      <td>...</td>\n",
       "      <td>...</td>\n",
       "      <td>...</td>\n",
       "      <td>...</td>\n",
       "      <td>...</td>\n",
       "      <td>...</td>\n",
       "      <td>...</td>\n",
       "      <td>...</td>\n",
       "      <td>...</td>\n",
       "      <td>...</td>\n",
       "      <td>...</td>\n",
       "      <td>...</td>\n",
       "      <td>...</td>\n",
       "      <td>...</td>\n",
       "      <td>...</td>\n",
       "      <td>...</td>\n",
       "      <td>...</td>\n",
       "      <td>...</td>\n",
       "      <td>...</td>\n",
       "      <td>...</td>\n",
       "      <td>...</td>\n",
       "      <td>...</td>\n",
       "      <td>...</td>\n",
       "      <td>...</td>\n",
       "      <td>...</td>\n",
       "      <td>...</td>\n",
       "      <td>...</td>\n",
       "      <td>...</td>\n",
       "      <td>...</td>\n",
       "      <td>...</td>\n",
       "      <td>...</td>\n",
       "      <td>...</td>\n",
       "      <td>...</td>\n",
       "      <td>...</td>\n",
       "      <td>...</td>\n",
       "      <td>...</td>\n",
       "      <td>...</td>\n",
       "      <td>...</td>\n",
       "      <td>...</td>\n",
       "      <td>...</td>\n",
       "      <td>...</td>\n",
       "      <td>...</td>\n",
       "      <td>...</td>\n",
       "      <td>...</td>\n",
       "      <td>...</td>\n",
       "      <td>...</td>\n",
       "      <td>...</td>\n",
       "      <td>...</td>\n",
       "      <td>...</td>\n",
       "      <td>...</td>\n",
       "      <td>...</td>\n",
       "      <td>...</td>\n",
       "      <td>...</td>\n",
       "    </tr>\n",
       "    <tr>\n",
       "      <th>52036</th>\n",
       "      <td>3902059083A_580655</td>\n",
       "      <td>0.0</td>\n",
       "      <td>0.0</td>\n",
       "      <td>0.0</td>\n",
       "      <td>0.0</td>\n",
       "      <td>0.0</td>\n",
       "      <td>아니오</td>\n",
       "      <td>아니오</td>\n",
       "      <td>아니오</td>\n",
       "      <td>아니오</td>\n",
       "      <td>아니오</td>\n",
       "      <td>NaN</td>\n",
       "      <td>NaN</td>\n",
       "      <td>NaN</td>\n",
       "      <td>NaN</td>\n",
       "      <td>NaN</td>\n",
       "      <td>NaN</td>\n",
       "      <td>NaN</td>\n",
       "      <td>NaN</td>\n",
       "      <td>NaN</td>\n",
       "      <td>NaN</td>\n",
       "      <td>NaN</td>\n",
       "      <td>NaN</td>\n",
       "      <td>NaN</td>\n",
       "      <td>NaN</td>\n",
       "      <td>NaN</td>\n",
       "      <td>NaN</td>\n",
       "      <td>NaN</td>\n",
       "      <td>NaN</td>\n",
       "      <td>NaN</td>\n",
       "      <td>NaN</td>\n",
       "      <td>NaN</td>\n",
       "      <td>NaN</td>\n",
       "      <td>NaN</td>\n",
       "      <td>NaN</td>\n",
       "      <td>NaN</td>\n",
       "      <td>NaN</td>\n",
       "      <td>NaN</td>\n",
       "      <td>NaN</td>\n",
       "      <td>NaN</td>\n",
       "      <td>...</td>\n",
       "      <td>NaN</td>\n",
       "      <td>NaN</td>\n",
       "      <td>NaN</td>\n",
       "      <td>NaN</td>\n",
       "      <td>NaN</td>\n",
       "      <td>NaN</td>\n",
       "      <td>NaN</td>\n",
       "      <td>NaN</td>\n",
       "      <td>NaN</td>\n",
       "      <td>NaN</td>\n",
       "      <td>NaN</td>\n",
       "      <td>NaN</td>\n",
       "      <td>NaN</td>\n",
       "      <td>NaN</td>\n",
       "      <td>NaN</td>\n",
       "      <td>NaN</td>\n",
       "      <td>NaN</td>\n",
       "      <td>NaN</td>\n",
       "      <td>NaN</td>\n",
       "      <td>NaN</td>\n",
       "      <td>NaN</td>\n",
       "      <td>NaN</td>\n",
       "      <td>NaN</td>\n",
       "      <td>NaN</td>\n",
       "      <td>NaN</td>\n",
       "      <td>NaN</td>\n",
       "      <td>NaN</td>\n",
       "      <td>NaN</td>\n",
       "      <td>NaN</td>\n",
       "      <td>NaN</td>\n",
       "      <td>NaN</td>\n",
       "      <td>NaN</td>\n",
       "      <td>NaN</td>\n",
       "      <td>NaN</td>\n",
       "      <td>NaN</td>\n",
       "      <td>NaN</td>\n",
       "      <td>NaN</td>\n",
       "      <td>NaN</td>\n",
       "      <td>NaN</td>\n",
       "      <td>NaN</td>\n",
       "    </tr>\n",
       "    <tr>\n",
       "      <th>52037</th>\n",
       "      <td>3902059083A_580912</td>\n",
       "      <td>0.0</td>\n",
       "      <td>0.0</td>\n",
       "      <td>0.0</td>\n",
       "      <td>0.0</td>\n",
       "      <td>0.0</td>\n",
       "      <td>아니오</td>\n",
       "      <td>아니오</td>\n",
       "      <td>아니오</td>\n",
       "      <td>아니오</td>\n",
       "      <td>아니오</td>\n",
       "      <td>NaN</td>\n",
       "      <td>NaN</td>\n",
       "      <td>NaN</td>\n",
       "      <td>NaN</td>\n",
       "      <td>NaN</td>\n",
       "      <td>NaN</td>\n",
       "      <td>NaN</td>\n",
       "      <td>NaN</td>\n",
       "      <td>NaN</td>\n",
       "      <td>NaN</td>\n",
       "      <td>NaN</td>\n",
       "      <td>NaN</td>\n",
       "      <td>NaN</td>\n",
       "      <td>NaN</td>\n",
       "      <td>NaN</td>\n",
       "      <td>NaN</td>\n",
       "      <td>NaN</td>\n",
       "      <td>NaN</td>\n",
       "      <td>NaN</td>\n",
       "      <td>NaN</td>\n",
       "      <td>NaN</td>\n",
       "      <td>NaN</td>\n",
       "      <td>NaN</td>\n",
       "      <td>NaN</td>\n",
       "      <td>NaN</td>\n",
       "      <td>NaN</td>\n",
       "      <td>NaN</td>\n",
       "      <td>NaN</td>\n",
       "      <td>NaN</td>\n",
       "      <td>...</td>\n",
       "      <td>NaN</td>\n",
       "      <td>NaN</td>\n",
       "      <td>NaN</td>\n",
       "      <td>NaN</td>\n",
       "      <td>NaN</td>\n",
       "      <td>NaN</td>\n",
       "      <td>NaN</td>\n",
       "      <td>NaN</td>\n",
       "      <td>NaN</td>\n",
       "      <td>NaN</td>\n",
       "      <td>NaN</td>\n",
       "      <td>NaN</td>\n",
       "      <td>NaN</td>\n",
       "      <td>NaN</td>\n",
       "      <td>NaN</td>\n",
       "      <td>NaN</td>\n",
       "      <td>NaN</td>\n",
       "      <td>NaN</td>\n",
       "      <td>NaN</td>\n",
       "      <td>NaN</td>\n",
       "      <td>NaN</td>\n",
       "      <td>NaN</td>\n",
       "      <td>NaN</td>\n",
       "      <td>NaN</td>\n",
       "      <td>NaN</td>\n",
       "      <td>NaN</td>\n",
       "      <td>NaN</td>\n",
       "      <td>NaN</td>\n",
       "      <td>NaN</td>\n",
       "      <td>NaN</td>\n",
       "      <td>NaN</td>\n",
       "      <td>NaN</td>\n",
       "      <td>NaN</td>\n",
       "      <td>NaN</td>\n",
       "      <td>NaN</td>\n",
       "      <td>NaN</td>\n",
       "      <td>NaN</td>\n",
       "      <td>NaN</td>\n",
       "      <td>NaN</td>\n",
       "      <td>NaN</td>\n",
       "    </tr>\n",
       "    <tr>\n",
       "      <th>52038</th>\n",
       "      <td>3902059083A_580913</td>\n",
       "      <td>0.0</td>\n",
       "      <td>0.0</td>\n",
       "      <td>0.0</td>\n",
       "      <td>0.0</td>\n",
       "      <td>0.0</td>\n",
       "      <td>아니오</td>\n",
       "      <td>아니오</td>\n",
       "      <td>아니오</td>\n",
       "      <td>아니오</td>\n",
       "      <td>아니오</td>\n",
       "      <td>NaN</td>\n",
       "      <td>NaN</td>\n",
       "      <td>NaN</td>\n",
       "      <td>NaN</td>\n",
       "      <td>NaN</td>\n",
       "      <td>NaN</td>\n",
       "      <td>NaN</td>\n",
       "      <td>NaN</td>\n",
       "      <td>NaN</td>\n",
       "      <td>NaN</td>\n",
       "      <td>NaN</td>\n",
       "      <td>NaN</td>\n",
       "      <td>NaN</td>\n",
       "      <td>NaN</td>\n",
       "      <td>NaN</td>\n",
       "      <td>NaN</td>\n",
       "      <td>NaN</td>\n",
       "      <td>NaN</td>\n",
       "      <td>NaN</td>\n",
       "      <td>NaN</td>\n",
       "      <td>NaN</td>\n",
       "      <td>NaN</td>\n",
       "      <td>NaN</td>\n",
       "      <td>NaN</td>\n",
       "      <td>NaN</td>\n",
       "      <td>NaN</td>\n",
       "      <td>NaN</td>\n",
       "      <td>NaN</td>\n",
       "      <td>NaN</td>\n",
       "      <td>...</td>\n",
       "      <td>NaN</td>\n",
       "      <td>NaN</td>\n",
       "      <td>NaN</td>\n",
       "      <td>NaN</td>\n",
       "      <td>NaN</td>\n",
       "      <td>NaN</td>\n",
       "      <td>NaN</td>\n",
       "      <td>NaN</td>\n",
       "      <td>NaN</td>\n",
       "      <td>NaN</td>\n",
       "      <td>NaN</td>\n",
       "      <td>NaN</td>\n",
       "      <td>NaN</td>\n",
       "      <td>NaN</td>\n",
       "      <td>NaN</td>\n",
       "      <td>NaN</td>\n",
       "      <td>NaN</td>\n",
       "      <td>NaN</td>\n",
       "      <td>NaN</td>\n",
       "      <td>NaN</td>\n",
       "      <td>NaN</td>\n",
       "      <td>NaN</td>\n",
       "      <td>NaN</td>\n",
       "      <td>NaN</td>\n",
       "      <td>NaN</td>\n",
       "      <td>NaN</td>\n",
       "      <td>NaN</td>\n",
       "      <td>NaN</td>\n",
       "      <td>NaN</td>\n",
       "      <td>NaN</td>\n",
       "      <td>NaN</td>\n",
       "      <td>NaN</td>\n",
       "      <td>NaN</td>\n",
       "      <td>NaN</td>\n",
       "      <td>NaN</td>\n",
       "      <td>NaN</td>\n",
       "      <td>NaN</td>\n",
       "      <td>NaN</td>\n",
       "      <td>NaN</td>\n",
       "      <td>NaN</td>\n",
       "    </tr>\n",
       "    <tr>\n",
       "      <th>52039</th>\n",
       "      <td>3902059083A_580914</td>\n",
       "      <td>1.0</td>\n",
       "      <td>0.0</td>\n",
       "      <td>0.0</td>\n",
       "      <td>0.0</td>\n",
       "      <td>0.0</td>\n",
       "      <td>예</td>\n",
       "      <td>아니오</td>\n",
       "      <td>아니오</td>\n",
       "      <td>아니오</td>\n",
       "      <td>아니오</td>\n",
       "      <td>Y</td>\n",
       "      <td>국내 관광/휴양 여행(가족/친지/친구 방문, 출장/업무 활동 없는 단순 관광/휴양 여행)</td>\n",
       "      <td>2022.0</td>\n",
       "      <td>12.0</td>\n",
       "      <td>17.0</td>\n",
       "      <td>2022.0</td>\n",
       "      <td>12.0</td>\n",
       "      <td>17.0</td>\n",
       "      <td>0.0</td>\n",
       "      <td>40000.0</td>\n",
       "      <td>1.0</td>\n",
       "      <td>40000.0</td>\n",
       "      <td>NaN</td>\n",
       "      <td>2022.0</td>\n",
       "      <td>12.0</td>\n",
       "      <td>17.0</td>\n",
       "      <td>2022.0</td>\n",
       "      <td>12.0</td>\n",
       "      <td>17.0</td>\n",
       "      <td>제주특별자치도 제주시</td>\n",
       "      <td>NaN</td>\n",
       "      <td>NaN</td>\n",
       "      <td>NaN</td>\n",
       "      <td>NaN</td>\n",
       "      <td>NaN</td>\n",
       "      <td>NaN</td>\n",
       "      <td>NaN</td>\n",
       "      <td>NaN</td>\n",
       "      <td>NaN</td>\n",
       "      <td>...</td>\n",
       "      <td>제주</td>\n",
       "      <td>NaN</td>\n",
       "      <td>NaN</td>\n",
       "      <td>NaN</td>\n",
       "      <td>NaN</td>\n",
       "      <td>NaN</td>\n",
       "      <td>NaN</td>\n",
       "      <td>NaN</td>\n",
       "      <td>NaN</td>\n",
       "      <td>NaN</td>\n",
       "      <td>NaN</td>\n",
       "      <td>NaN</td>\n",
       "      <td>NaN</td>\n",
       "      <td>NaN</td>\n",
       "      <td>NaN</td>\n",
       "      <td>NaN</td>\n",
       "      <td>NaN</td>\n",
       "      <td>NaN</td>\n",
       "      <td>NaN</td>\n",
       "      <td>NaN</td>\n",
       "      <td>NaN</td>\n",
       "      <td>NaN</td>\n",
       "      <td>NaN</td>\n",
       "      <td>NaN</td>\n",
       "      <td>NaN</td>\n",
       "      <td>NaN</td>\n",
       "      <td>NaN</td>\n",
       "      <td>NaN</td>\n",
       "      <td>NaN</td>\n",
       "      <td>NaN</td>\n",
       "      <td>NaN</td>\n",
       "      <td>NaN</td>\n",
       "      <td>NaN</td>\n",
       "      <td>NaN</td>\n",
       "      <td>NaN</td>\n",
       "      <td>NaN</td>\n",
       "      <td>NaN</td>\n",
       "      <td>NaN</td>\n",
       "      <td>NaN</td>\n",
       "      <td>NaN</td>\n",
       "    </tr>\n",
       "    <tr>\n",
       "      <th>52040</th>\n",
       "      <td>3902059083A_580918</td>\n",
       "      <td>0.0</td>\n",
       "      <td>0.0</td>\n",
       "      <td>0.0</td>\n",
       "      <td>0.0</td>\n",
       "      <td>0.0</td>\n",
       "      <td>아니오</td>\n",
       "      <td>아니오</td>\n",
       "      <td>아니오</td>\n",
       "      <td>아니오</td>\n",
       "      <td>아니오</td>\n",
       "      <td>NaN</td>\n",
       "      <td>NaN</td>\n",
       "      <td>NaN</td>\n",
       "      <td>NaN</td>\n",
       "      <td>NaN</td>\n",
       "      <td>NaN</td>\n",
       "      <td>NaN</td>\n",
       "      <td>NaN</td>\n",
       "      <td>NaN</td>\n",
       "      <td>NaN</td>\n",
       "      <td>NaN</td>\n",
       "      <td>NaN</td>\n",
       "      <td>NaN</td>\n",
       "      <td>NaN</td>\n",
       "      <td>NaN</td>\n",
       "      <td>NaN</td>\n",
       "      <td>NaN</td>\n",
       "      <td>NaN</td>\n",
       "      <td>NaN</td>\n",
       "      <td>NaN</td>\n",
       "      <td>NaN</td>\n",
       "      <td>NaN</td>\n",
       "      <td>NaN</td>\n",
       "      <td>NaN</td>\n",
       "      <td>NaN</td>\n",
       "      <td>NaN</td>\n",
       "      <td>NaN</td>\n",
       "      <td>NaN</td>\n",
       "      <td>NaN</td>\n",
       "      <td>...</td>\n",
       "      <td>NaN</td>\n",
       "      <td>NaN</td>\n",
       "      <td>NaN</td>\n",
       "      <td>NaN</td>\n",
       "      <td>NaN</td>\n",
       "      <td>NaN</td>\n",
       "      <td>NaN</td>\n",
       "      <td>NaN</td>\n",
       "      <td>NaN</td>\n",
       "      <td>NaN</td>\n",
       "      <td>NaN</td>\n",
       "      <td>NaN</td>\n",
       "      <td>NaN</td>\n",
       "      <td>NaN</td>\n",
       "      <td>NaN</td>\n",
       "      <td>NaN</td>\n",
       "      <td>NaN</td>\n",
       "      <td>NaN</td>\n",
       "      <td>NaN</td>\n",
       "      <td>NaN</td>\n",
       "      <td>NaN</td>\n",
       "      <td>NaN</td>\n",
       "      <td>NaN</td>\n",
       "      <td>NaN</td>\n",
       "      <td>NaN</td>\n",
       "      <td>NaN</td>\n",
       "      <td>NaN</td>\n",
       "      <td>NaN</td>\n",
       "      <td>NaN</td>\n",
       "      <td>NaN</td>\n",
       "      <td>NaN</td>\n",
       "      <td>NaN</td>\n",
       "      <td>NaN</td>\n",
       "      <td>NaN</td>\n",
       "      <td>NaN</td>\n",
       "      <td>NaN</td>\n",
       "      <td>NaN</td>\n",
       "      <td>NaN</td>\n",
       "      <td>NaN</td>\n",
       "      <td>NaN</td>\n",
       "    </tr>\n",
       "  </tbody>\n",
       "</table>\n",
       "<p>52041 rows × 2343 columns</p>\n",
       "</div>"
      ],
      "text/plain": [
       "                       ID  SA1_1  ...  국내_여행방문지_기타당일9  국내_여행방문지_기타당일10\n",
       "0      11010550211_277566    0.0  ...             NaN              NaN\n",
       "1      11010550211_277569    1.0  ...             NaN              NaN\n",
       "2      11010550211_277571    0.0  ...             NaN              NaN\n",
       "3      11010550211_277572    1.0  ...             NaN              NaN\n",
       "4      11010550211_277588    1.0  ...             NaN              NaN\n",
       "...                   ...    ...  ...             ...              ...\n",
       "52036  3902059083A_580655    0.0  ...             NaN              NaN\n",
       "52037  3902059083A_580912    0.0  ...             NaN              NaN\n",
       "52038  3902059083A_580913    0.0  ...             NaN              NaN\n",
       "52039  3902059083A_580914    1.0  ...             NaN              NaN\n",
       "52040  3902059083A_580918    0.0  ...             NaN              NaN\n",
       "\n",
       "[52041 rows x 2343 columns]"
      ]
     },
     "execution_count": 82,
     "metadata": {},
     "output_type": "execute_result"
    }
   ],
   "source": [
    "train"
   ]
  },
  {
   "cell_type": "markdown",
   "metadata": {},
   "source": [
    "### INFO\n",
    "- 인덱스: 52041개의 행을 포함하는 RangeIndex\n",
    "- 컬럼: 2343개의 컬럼, 'ID'에서 '국내_여행방문지_기타당일10'까지\n",
    "- 데이터 타입: 2008개의 float64 컬럼과 335개의 object 컬럼\n",
    "- 메모리 사용량: 약 930.3MB"
   ]
  },
  {
   "cell_type": "markdown",
   "metadata": {},
   "source": [
    "## 사용할 칼럼\n",
    "\n",
    "- 성별 : BSEX\n",
    "- 여행유형\n",
    "   - D_TRA1_CASE, D_TRA2_CASE, D_TRA3_CASE, D_TRA4_CASE, D_TRA5_CASE, D_TRA6_CASE, D_TRA7_CASE, D_TRA8_CASE\n",
    "- 연령 : BAGE\n",
    "- 거주지역 : BARA\n",
    "- 월별 : BMON\n",
    "- 방문지\n",
    "    - 'D_TRA1_1_SPOT','D_TRA1_2_SPOT','D_TRA1_3_SPOT','D_TRA1_4_SPOT','D_TRA1_5_SPOT', 'D_TRA1_6_SPOT','D_TRA1_7_SPOT'\n",
    "- 숙박지\n",
    "    - 'D_TRA1_1_Q6_Ar', 'D_TRA1_2_Q6_Ar','D_TRA1_3_Q6_Ar','D_TRA1_4_Q6_Ar','D_TRA1_5_Q6_Ar','D_TRA1_6_Q6_Ar' \n",
    "- 동반자 \n",
    "    - A7 : 동반자 수_본인포함\n",
    "    - 유형 A7B_1(가족) A7B_2(친척) A7B_3(친구,연인) A7B_4(동료) A7B_5(친목단체) A7B_6(학교단체) A7B_7(기타)\n",
    "- 여행일수  'D_TRA1_S_Day', 'D_TRA2_S_Day', 'D_TRA3_S_Day', 'D_TRA4_S_Day', 'D_TRA5_S_Day', 'D_TRA6_S_Day'\n",
    "- 여행지에서 활동  A5_1 ~ A5_21\n",
    "- 여행 비용 'D_TRA1_COST' : 보류\n"
   ]
  },
  {
   "cell_type": "markdown",
   "metadata": {},
   "source": [
    "### 1. 성별"
   ]
  },
  {
   "cell_type": "code",
   "execution_count": 17,
   "metadata": {},
   "outputs": [
    {
     "data": {
      "text/plain": [
       "0          남자\n",
       "1          여자\n",
       "2          남자\n",
       "3          여자\n",
       "4          남자\n",
       "         ... \n",
       "52036      남자\n",
       "52037      남자\n",
       "52038      여자\n",
       "52039      여자\n",
       "52040      남자\n",
       "Name: BSEX, Length: 52041, dtype: object"
      ]
     },
     "execution_count": 17,
     "metadata": {},
     "output_type": "execute_result"
    }
   ],
   "source": [
    "train['BSEX']"
   ]
  },
  {
   "cell_type": "code",
   "execution_count": 18,
   "metadata": {},
   "outputs": [
    {
     "data": {
      "text/plain": [
       "0"
      ]
     },
     "execution_count": 18,
     "metadata": {},
     "output_type": "execute_result"
    }
   ],
   "source": [
    "\n",
    "from sklearn.preprocessing import LabelEncoder\n",
    "\n",
    "train['BSEX'].isnull().sum()\n",
    "\n"
   ]
  },
  {
   "cell_type": "code",
   "execution_count": 19,
   "metadata": {},
   "outputs": [
    {
     "data": {
      "image/png": "[encoded data removed]",
      "text/plain": [
       "<Figure size 640x480 with 1 Axes>"
      ]
     },
     "metadata": {},
     "output_type": "display_data"
    }
   ],
   "source": [
    "\n",
    "import matplotlib.pyplot as plt\n",
    "import seaborn as sns\n",
    "sns.countplot(data=train, x='BSEX')\n",
    "plt.xlabel('SEX')\n",
    "plt.ylabel('COUNT')\n",
    "plt.xticks([0, 1], ['M', 'F'])  \n",
    "plt.show()\n"
   ]
  },
  {
   "cell_type": "markdown",
   "metadata": {},
   "source": [
    "### 2. 여행 유형\n",
    "T_type = ['D_TRA1_CASE', 'D_TRA2_CASE', 'D_TRA3_CASE', 'D_TRA4_CASE', 'D_TRA5_CASE', 'D_TRA6_CASE']\n",
    "\n",
    "- 항목\n",
    "1. 국내 관광/휴양여행\n",
    "2. 국내 가족/친지/친구방문여행\n",
    "3. 국내 단순 가족/친지/친구 방문\n",
    "4. 국내 출장/업무 여행(관광포함)\n",
    "5. 국내 단순 출장/업무 경험 (관광 비포함)\n",
    "6. 1년 이하 해외여행 경험\n",
    "\n",
    "6번은 필요성이 낮아보임"
   ]
  },
  {
   "cell_type": "code",
   "execution_count": 20,
   "metadata": {},
   "outputs": [
    {
     "data": {
      "text/html": [
       "<div>\n",
       "<style scoped>\n",
       "    .dataframe tbody tr th:only-of-type {\n",
       "        vertical-align: middle;\n",
       "    }\n",
       "\n",
       "    .dataframe tbody tr th {\n",
       "        vertical-align: top;\n",
       "    }\n",
       "\n",
       "    .dataframe thead th {\n",
       "        text-align: right;\n",
       "    }\n",
       "</style>\n",
       "<table border=\"1\" class=\"dataframe\">\n",
       "  <thead>\n",
       "    <tr style=\"text-align: right;\">\n",
       "      <th></th>\n",
       "      <th>D_TRA1_CASE</th>\n",
       "      <th>D_TRA2_CASE</th>\n",
       "      <th>D_TRA3_CASE</th>\n",
       "      <th>D_TRA4_CASE</th>\n",
       "      <th>D_TRA5_CASE</th>\n",
       "      <th>D_TRA6_CASE</th>\n",
       "    </tr>\n",
       "  </thead>\n",
       "  <tbody>\n",
       "    <tr>\n",
       "      <th>0</th>\n",
       "      <td>NaN</td>\n",
       "      <td>NaN</td>\n",
       "      <td>NaN</td>\n",
       "      <td>NaN</td>\n",
       "      <td>NaN</td>\n",
       "      <td>NaN</td>\n",
       "    </tr>\n",
       "    <tr>\n",
       "      <th>1</th>\n",
       "      <td>국내 관광/휴양 여행(가족/친지/친구 방문, 출장/업무 활동 없는 단순 관광/휴양 여행)</td>\n",
       "      <td>NaN</td>\n",
       "      <td>NaN</td>\n",
       "      <td>NaN</td>\n",
       "      <td>NaN</td>\n",
       "      <td>NaN</td>\n",
       "    </tr>\n",
       "    <tr>\n",
       "      <th>2</th>\n",
       "      <td>NaN</td>\n",
       "      <td>NaN</td>\n",
       "      <td>NaN</td>\n",
       "      <td>NaN</td>\n",
       "      <td>NaN</td>\n",
       "      <td>NaN</td>\n",
       "    </tr>\n",
       "    <tr>\n",
       "      <th>3</th>\n",
       "      <td>국내 관광/휴양 여행(가족/친지/친구 방문, 출장/업무 활동 없는 단순 관광/휴양 여행)</td>\n",
       "      <td>NaN</td>\n",
       "      <td>NaN</td>\n",
       "      <td>NaN</td>\n",
       "      <td>NaN</td>\n",
       "      <td>NaN</td>\n",
       "    </tr>\n",
       "    <tr>\n",
       "      <th>4</th>\n",
       "      <td>국내 관광/휴양 여행(가족/친지/친구 방문, 출장/업무 활동 없는 단순 관광/휴양 여행)</td>\n",
       "      <td>NaN</td>\n",
       "      <td>NaN</td>\n",
       "      <td>NaN</td>\n",
       "      <td>NaN</td>\n",
       "      <td>NaN</td>\n",
       "    </tr>\n",
       "    <tr>\n",
       "      <th>...</th>\n",
       "      <td>...</td>\n",
       "      <td>...</td>\n",
       "      <td>...</td>\n",
       "      <td>...</td>\n",
       "      <td>...</td>\n",
       "      <td>...</td>\n",
       "    </tr>\n",
       "    <tr>\n",
       "      <th>52036</th>\n",
       "      <td>NaN</td>\n",
       "      <td>NaN</td>\n",
       "      <td>NaN</td>\n",
       "      <td>NaN</td>\n",
       "      <td>NaN</td>\n",
       "      <td>NaN</td>\n",
       "    </tr>\n",
       "    <tr>\n",
       "      <th>52037</th>\n",
       "      <td>NaN</td>\n",
       "      <td>NaN</td>\n",
       "      <td>NaN</td>\n",
       "      <td>NaN</td>\n",
       "      <td>NaN</td>\n",
       "      <td>NaN</td>\n",
       "    </tr>\n",
       "    <tr>\n",
       "      <th>52038</th>\n",
       "      <td>NaN</td>\n",
       "      <td>NaN</td>\n",
       "      <td>NaN</td>\n",
       "      <td>NaN</td>\n",
       "      <td>NaN</td>\n",
       "      <td>NaN</td>\n",
       "    </tr>\n",
       "    <tr>\n",
       "      <th>52039</th>\n",
       "      <td>국내 관광/휴양 여행(가족/친지/친구 방문, 출장/업무 활동 없는 단순 관광/휴양 여행)</td>\n",
       "      <td>NaN</td>\n",
       "      <td>NaN</td>\n",
       "      <td>NaN</td>\n",
       "      <td>NaN</td>\n",
       "      <td>NaN</td>\n",
       "    </tr>\n",
       "    <tr>\n",
       "      <th>52040</th>\n",
       "      <td>NaN</td>\n",
       "      <td>NaN</td>\n",
       "      <td>NaN</td>\n",
       "      <td>NaN</td>\n",
       "      <td>NaN</td>\n",
       "      <td>NaN</td>\n",
       "    </tr>\n",
       "  </tbody>\n",
       "</table>\n",
       "<p>52041 rows × 6 columns</p>\n",
       "</div>"
      ],
      "text/plain": [
       "                                             D_TRA1_CASE  ... D_TRA6_CASE\n",
       "0                                                    NaN  ...         NaN\n",
       "1      국내 관광/휴양 여행(가족/친지/친구 방문, 출장/업무 활동 없는 단순 관광/휴양 여행)  ...         NaN\n",
       "2                                                    NaN  ...         NaN\n",
       "3      국내 관광/휴양 여행(가족/친지/친구 방문, 출장/업무 활동 없는 단순 관광/휴양 여행)  ...         NaN\n",
       "4      국내 관광/휴양 여행(가족/친지/친구 방문, 출장/업무 활동 없는 단순 관광/휴양 여행)  ...         NaN\n",
       "...                                                  ...  ...         ...\n",
       "52036                                                NaN  ...         NaN\n",
       "52037                                                NaN  ...         NaN\n",
       "52038                                                NaN  ...         NaN\n",
       "52039  국내 관광/휴양 여행(가족/친지/친구 방문, 출장/업무 활동 없는 단순 관광/휴양 여행)  ...         NaN\n",
       "52040                                                NaN  ...         NaN\n",
       "\n",
       "[52041 rows x 6 columns]"
      ]
     },
     "execution_count": 20,
     "metadata": {},
     "output_type": "execute_result"
    }
   ],
   "source": [
    "T_type = ['D_TRA1_CASE', 'D_TRA2_CASE', 'D_TRA3_CASE', 'D_TRA4_CASE', 'D_TRA5_CASE', 'D_TRA6_CASE']\n",
    "train[T_type]"
   ]
  },
  {
   "cell_type": "code",
   "execution_count": 21,
   "metadata": {},
   "outputs": [
    {
     "data": {
      "text/plain": [
       "D_TRA1_CASE    27025\n",
       "D_TRA2_CASE    50653\n",
       "D_TRA3_CASE    51914\n",
       "D_TRA4_CASE    52017\n",
       "D_TRA5_CASE    52035\n",
       "D_TRA6_CASE    52039\n",
       "dtype: int64"
      ]
     },
     "execution_count": 21,
     "metadata": {},
     "output_type": "execute_result"
    }
   ],
   "source": [
    "T_type = ['D_TRA1_CASE', 'D_TRA2_CASE', 'D_TRA3_CASE', 'D_TRA4_CASE', 'D_TRA5_CASE', 'D_TRA6_CASE']\n",
    "train[T_type].isnull().sum()"
   ]
  },
  {
   "cell_type": "code",
   "execution_count": 22,
   "metadata": {},
   "outputs": [
    {
     "name": "stdout",
     "output_type": "stream",
     "text": [
      "<class 'pandas.core.frame.DataFrame'>\n",
      "Index: 25016 entries, 1 to 52039\n",
      "Columns: 2343 entries, ID to 국내_여행방문지_기타당일10\n",
      "dtypes: float64(2008), object(335)\n",
      "memory usage: 447.4+ MB\n"
     ]
    }
   ],
   "source": [
    "train = train.dropna(subset=['D_TRA1_CASE'])\n",
    "train.info()"
   ]
  },
  {
   "cell_type": "markdown",
   "metadata": {},
   "source": [
    "#### Drop 후 train.info()\n",
    "- 행: 25,016개 (1에서 52,039까지 인덱싱)\n",
    "- 열: 2,343개 (\"ID\"에서 \"국내_여행방문지_기타당일10\"까지)\n",
    "- 데이터 타입 :\n",
    "    - float64: 2,008개 열은 소수점 숫자를 포함\n",
    "    - int32: 2개 열은 정수 값을 포함\n",
    "    - object: 333개 열은 텍스트 또는 혼합된 데이터 유형을 포함\n",
    "- 메모리 사용량: 447.2MB 이상"
   ]
  },
  {
   "cell_type": "code",
   "execution_count": 23,
   "metadata": {},
   "outputs": [
    {
     "name": "stdout",
     "output_type": "stream",
     "text": [
      "0\n"
     ]
    }
   ],
   "source": [
    "keyword = \"해외\"\n",
    "count = train['D_TRA1_CASE'].str.contains(keyword).sum()\n",
    "print(count)"
   ]
  },
  {
   "cell_type": "code",
   "execution_count": 24,
   "metadata": {},
   "outputs": [
    {
     "name": "stdout",
     "output_type": "stream",
     "text": [
      "D_TRA1_CASE\n",
      "국내 관광/휴양 여행(가족/친지/친구 방문, 출장/업무 활동 없는 단순 관광/휴양 여행)    16966\n",
      "국내 가족/친지/친구 방문 여행 - 관광/휴양 활동 포함                       4275\n",
      "국내 단순 가족/친지/친구 방문 - 관광/휴양 활동이 포함되지 않음                 2848\n",
      "국내 단순 출장/업무 경험 - 관광/휴양 활동이 포함되지 않음                     512\n",
      "국내 출장/업무 여행 - 관광/휴양 활동 포함                              415\n",
      "Name: count, dtype: int64\n"
     ]
    }
   ],
   "source": [
    "value_counts = train['D_TRA1_CASE'].value_counts()\n",
    "print(value_counts)"
   ]
  },
  {
   "cell_type": "code",
   "execution_count": 25,
   "metadata": {},
   "outputs": [],
   "source": [
    "train['D_TRA1_CASE'] = train['D_TRA1_CASE'].replace({'국내 관광/휴양 여행(가족/친지/친구 방문, 출장/업무 활동 없는 단순 관광/휴양 여행)': '단순관광'})\n",
    "train['D_TRA1_CASE'] = train['D_TRA1_CASE'].replace({'국내 가족/친지/친구 방문 여행 - 관광/휴양 활동 포함': '가족/친지/친구방문(관광포함)'})\n",
    "train['D_TRA1_CASE'] = train['D_TRA1_CASE'].replace({'국내 단순 가족/친지/친구 방문 - 관광/휴양 활동이 포함되지 않음': '단순가족/친지/친구방문'})\n",
    "train['D_TRA1_CASE'] = train['D_TRA1_CASE'].replace({'국내 단순 출장/업무 경험 - 관광/휴양 활동이 포함되지 않음': '단순출장/업무'})\n",
    "train['D_TRA1_CASE'] = train['D_TRA1_CASE'].replace({'국내 출장/업무 여행 - 관광/휴양 활동 포함': '출장/업무(관광포함)'})"
   ]
  },
  {
   "cell_type": "code",
   "execution_count": 26,
   "metadata": {},
   "outputs": [
    {
     "name": "stdout",
     "output_type": "stream",
     "text": [
      "D_TRA1_CASE\n",
      "단순관광                16966\n",
      "가족/친지/친구방문(관광포함)     4275\n",
      "단순가족/친지/친구방문         2848\n",
      "단순출장/업무               512\n",
      "출장/업무(관광포함)           415\n",
      "Name: count, dtype: int64\n"
     ]
    }
   ],
   "source": [
    "value_counts = train['D_TRA1_CASE'].value_counts()\n",
    "print(value_counts)"
   ]
  },
  {
   "cell_type": "code",
   "execution_count": 27,
   "metadata": {},
   "outputs": [
    {
     "data": {
      "image/png": "[encoded data removed]",
      "text/plain": [
       "<Figure size 640x480 with 1 Axes>"
      ]
     },
     "metadata": {},
     "output_type": "display_data"
    }
   ],
   "source": [
    "import matplotlib.pyplot as plt\n",
    "\n",
    "travel_type_counts = train['D_TRA1_CASE'].value_counts()\n",
    "plt.bar(travel_type_counts.index, travel_type_counts.values)\n",
    "plt.xlabel('여행 유형')\n",
    "plt.ylabel('빈도수')\n",
    "plt.title('여행 유형별 빈도수')\n",
    "plt.xticks(rotation=45)\n",
    "plt.show()\n"
   ]
  },
  {
   "cell_type": "code",
   "execution_count": 28,
   "metadata": {},
   "outputs": [
    {
     "data": {
      "image/png": "[encoded data removed]",
      "text/plain": [
       "<Figure size 1200x600 with 1 Axes>"
      ]
     },
     "metadata": {},
     "output_type": "display_data"
    }
   ],
   "source": [
    "import seaborn as sns\n",
    "\n",
    "plt.figure(figsize=(12, 6))\n",
    "sns.countplot(x='D_TRA1_CASE', data=train)\n",
    "plt.xlabel('D_TRA1_CASE')\n",
    "plt.ylabel('count')\n",
    "plt.show()"
   ]
  },
  {
   "cell_type": "markdown",
   "metadata": {},
   "source": [
    "- 단순광광의 비율이 압도적으로 많음"
   ]
  },
  {
   "cell_type": "markdown",
   "metadata": {},
   "source": [
    "### 3. 연령 : BAGE"
   ]
  },
  {
   "cell_type": "code",
   "execution_count": 29,
   "metadata": {},
   "outputs": [
    {
     "data": {
      "text/plain": [
       "BAGE\n",
       "  40대       5231\n",
       "  50대       5212\n",
       "  30대       4377\n",
       "  20대       4088\n",
       "  60대       3596\n",
       "  70세이상     1674\n",
       "  15~19세     838\n",
       "Name: count, dtype: int64"
      ]
     },
     "execution_count": 29,
     "metadata": {},
     "output_type": "execute_result"
    }
   ],
   "source": [
    "train['BAGE'].value_counts()"
   ]
  },
  {
   "cell_type": "code",
   "execution_count": 30,
   "metadata": {},
   "outputs": [
    {
     "data": {
      "text/plain": [
       "0"
      ]
     },
     "execution_count": 30,
     "metadata": {},
     "output_type": "execute_result"
    }
   ],
   "source": [
    "train['BAGE'].isnull().sum()"
   ]
  },
  {
   "cell_type": "code",
   "execution_count": 31,
   "metadata": {},
   "outputs": [
    {
     "data": {
      "image/png": "[encoded data removed]",
      "text/plain": [
       "<Figure size 1200x600 with 1 Axes>"
      ]
     },
     "metadata": {},
     "output_type": "display_data"
    }
   ],
   "source": [
    "plt.figure(figsize=(12, 6))\n",
    "sns.countplot(x='BAGE', data=train)\n",
    "plt.title('BAGE')\n",
    "plt.xlabel('BAGE')\n",
    "plt.ylabel('count')\n",
    "plt.show()"
   ]
  },
  {
   "cell_type": "markdown",
   "metadata": {},
   "source": [
    "### 4. 거주지역 : BARA"
   ]
  },
  {
   "cell_type": "code",
   "execution_count": 32,
   "metadata": {},
   "outputs": [
    {
     "data": {
      "text/plain": [
       "BARA\n",
       "  경기    4482\n",
       "  서울    2473\n",
       "  경남    1808\n",
       "  전남    1803\n",
       "  경북    1715\n",
       "  전북    1635\n",
       "  충남    1619\n",
       "  강원    1310\n",
       "  부산    1285\n",
       "  충북    1270\n",
       "  인천    1070\n",
       "  대구     993\n",
       "  광주     945\n",
       "  대전     929\n",
       "  울산     838\n",
       "  세종     655\n",
       "  제주     186\n",
       "Name: count, dtype: int64"
      ]
     },
     "execution_count": 32,
     "metadata": {},
     "output_type": "execute_result"
    }
   ],
   "source": [
    "train['BARA'].value_counts()"
   ]
  },
  {
   "cell_type": "code",
   "execution_count": 33,
   "metadata": {},
   "outputs": [
    {
     "data": {
      "text/plain": [
       "0"
      ]
     },
     "execution_count": 33,
     "metadata": {},
     "output_type": "execute_result"
    }
   ],
   "source": [
    "train['BARA'].isnull().sum()"
   ]
  },
  {
   "cell_type": "code",
   "execution_count": 34,
   "metadata": {},
   "outputs": [
    {
     "data": {
      "image/png": "[encoded data removed]",
      "text/plain": [
       "<Figure size 1200x600 with 1 Axes>"
      ]
     },
     "metadata": {},
     "output_type": "display_data"
    }
   ],
   "source": [
    "plt.figure(figsize=(12, 6))\n",
    "sns.countplot(x='BARA', data=train)\n",
    "plt.title('거주지')\n",
    "plt.xlabel('BARA')\n",
    "plt.ylabel('count')\n",
    "plt.show()"
   ]
  },
  {
   "cell_type": "markdown",
   "metadata": {},
   "source": [
    "### 5. 월별 : BMON"
   ]
  },
  {
   "cell_type": "code",
   "execution_count": 35,
   "metadata": {},
   "outputs": [
    {
     "data": {
      "text/plain": [
       "BMON\n",
       "  9월     2349\n",
       "  8월     2260\n",
       "  10월    2216\n",
       "  5월     2212\n",
       "  7월     2165\n",
       "  12월    2165\n",
       "  11월    2117\n",
       "  6월     2066\n",
       "  4월     1952\n",
       "  1월     1928\n",
       "  2월     1840\n",
       "  3월     1746\n",
       "Name: count, dtype: int64"
      ]
     },
     "execution_count": 35,
     "metadata": {},
     "output_type": "execute_result"
    }
   ],
   "source": [
    "train['BMON'].value_counts()"
   ]
  },
  {
   "cell_type": "code",
   "execution_count": 36,
   "metadata": {},
   "outputs": [
    {
     "data": {
      "text/plain": [
       "0"
      ]
     },
     "execution_count": 36,
     "metadata": {},
     "output_type": "execute_result"
    }
   ],
   "source": [
    "train['BMON'].isnull().sum()\n"
   ]
  },
  {
   "cell_type": "code",
   "execution_count": 37,
   "metadata": {},
   "outputs": [
    {
     "data": {
      "image/png": "[encoded data removed]",
      "text/plain": [
       "<Figure size 1200x600 with 1 Axes>"
      ]
     },
     "metadata": {},
     "output_type": "display_data"
    }
   ],
   "source": [
    "plt.figure(figsize=(12, 6))\n",
    "sns.countplot(x='BMON', data=train)\n",
    "plt.title('월별')\n",
    "plt.xlabel('BMON')\n",
    "plt.ylabel('count')\n",
    "plt.show()"
   ]
  },
  {
   "cell_type": "markdown",
   "metadata": {},
   "source": [
    "- 데이터가 전반적으로 균일함"
   ]
  },
  {
   "cell_type": "markdown",
   "metadata": {},
   "source": [
    "### 6. 방문지  \n",
    "- 'D_TRA1_1_SPOT','D_TRA1_2_SPOT','D_TRA1_3_SPOT','D_TRA1_4_SPOT','D_TRA1_5_SPOT', 'D_TRA1_6_SPOT','D_TRA1_7_SPOT'...\n"
   ]
  },
  {
   "cell_type": "code",
   "execution_count": 38,
   "metadata": {},
   "outputs": [
    {
     "data": {
      "text/plain": [
       "D_TRA1_1_SPOT        0\n",
       "D_TRA1_2_SPOT    15722\n",
       "D_TRA1_3_SPOT    20935\n",
       "D_TRA1_4_SPOT    23227\n",
       "D_TRA1_5_SPOT    24041\n",
       "D_TRA1_6_SPOT    24452\n",
       "D_TRA1_7_SPOT    24674\n",
       "dtype: int64"
      ]
     },
     "execution_count": 38,
     "metadata": {},
     "output_type": "execute_result"
    }
   ],
   "source": [
    "\n",
    "col = ['D_TRA1_1_SPOT','D_TRA1_2_SPOT','D_TRA1_3_SPOT','D_TRA1_4_SPOT','D_TRA1_5_SPOT', 'D_TRA1_6_SPOT','D_TRA1_7_SPOT']\n",
    "train[col].isnull().sum()"
   ]
  },
  {
   "cell_type": "code",
   "execution_count": 39,
   "metadata": {},
   "outputs": [
    {
     "data": {
      "text/plain": [
       "D_TRA2_1_SPOT    23706\n",
       "D_TRA2_2_SPOT    24747\n",
       "D_TRA2_3_SPOT    24890\n",
       "D_TRA2_4_SPOT    24961\n",
       "D_TRA2_5_SPOT    24990\n",
       "D_TRA2_6_SPOT    25004\n",
       "D_TRA2_7_SPOT    25008\n",
       "dtype: int64"
      ]
     },
     "execution_count": 39,
     "metadata": {},
     "output_type": "execute_result"
    }
   ],
   "source": [
    "col = ['D_TRA2_1_SPOT', 'D_TRA2_2_SPOT', 'D_TRA2_3_SPOT', 'D_TRA2_4_SPOT', 'D_TRA2_5_SPOT', 'D_TRA2_6_SPOT', 'D_TRA2_7_SPOT']\n",
    "train[col].isnull().sum()"
   ]
  },
  {
   "cell_type": "code",
   "execution_count": 40,
   "metadata": {},
   "outputs": [
    {
     "name": "stdout",
     "output_type": "stream",
     "text": [
      "<class 'pandas.core.series.Series'>\n",
      "Index: 14942 entries, 7 to 52039\n",
      "Series name: D_TRA1_1_SPOT\n",
      "Non-Null Count  Dtype \n",
      "--------------  ----- \n",
      "14942 non-null  object\n",
      "dtypes: object(1)\n",
      "memory usage: 233.5+ KB\n",
      "None\n"
     ]
    }
   ],
   "source": [
    "spot_values = train[train['D_TRA1_S_Day'] == 0]['D_TRA1_1_SPOT']\n",
    "print(spot_values.info())"
   ]
  },
  {
   "cell_type": "code",
   "execution_count": 41,
   "metadata": {},
   "outputs": [
    {
     "data": {
      "text/plain": [
       "당일치기\n",
       "경상북도 경주시     349\n",
       "경상북도 포항시     252\n",
       "경기도 가평군      247\n",
       "경기도 양평군      242\n",
       "전라남도 담양군     238\n",
       "            ... \n",
       "서울특별시 양천구      4\n",
       "서울특별시 중랑구      4\n",
       "서울특별시 성북구      3\n",
       "강원도 양구군        3\n",
       "인천광역시 동구       2\n",
       "Name: count, Length: 228, dtype: int64"
      ]
     },
     "execution_count": 41,
     "metadata": {},
     "output_type": "execute_result"
    }
   ],
   "source": [
    "import numpy as np\n",
    "train['당일치기'] = np.where(train['D_TRA1_S_Day'] == 0, train['D_TRA1_1_SPOT'], np.NAN)\n",
    "train['당일치기'].value_counts()"
   ]
  },
  {
   "cell_type": "markdown",
   "metadata": {},
   "source": [
    "### 7. 숙박지\n",
    "- 1차 조사 : D_TRA1_1_Q6_Ar, D_TRA1_2_Q6_Ar, D_TRA1_3_Q6_Ar, D_TRA1_4_Q6_Ar, D_TRA1_5_Q6_Ar, D_TRA1_6_Q6_Ar\n",
    "- 2차 조사 :D_TRA2_1_Q6_Ar, D_TRA2_2_Q6_Ar, D_TRA2_3_Q6_Ar, D_TRA2_4_Q6_Ar, D_TRA2_5_Q6_Ar, D_TRA2_6_Q6_Ar\n",
    "-..."
   ]
  },
  {
   "cell_type": "code",
   "execution_count": 42,
   "metadata": {},
   "outputs": [
    {
     "data": {
      "text/plain": [
       "D_TRA1_1_Q6_Ar    17017\n",
       "D_TRA1_2_Q6_Ar    22512\n",
       "D_TRA1_3_Q6_Ar    24114\n",
       "D_TRA1_4_Q6_Ar    24622\n",
       "D_TRA1_5_Q6_Ar    24820\n",
       "D_TRA1_6_Q6_Ar    24874\n",
       "dtype: int64"
      ]
     },
     "execution_count": 42,
     "metadata": {},
     "output_type": "execute_result"
    }
   ],
   "source": [
    "Accom_col =['D_TRA1_1_Q6_Ar', 'D_TRA1_2_Q6_Ar','D_TRA1_3_Q6_Ar','D_TRA1_4_Q6_Ar','D_TRA1_5_Q6_Ar','D_TRA1_6_Q6_Ar']\n",
    "train[Accom_col].isnull().sum()"
   ]
  },
  {
   "cell_type": "code",
   "execution_count": 43,
   "metadata": {},
   "outputs": [
    {
     "name": "stdout",
     "output_type": "stream",
     "text": [
      "14942\n",
      "<class 'pandas.core.series.Series'>\n",
      "Index: 14942 entries, 7 to 52039\n",
      "Series name: D_TRA1_1_Q6_Ar\n",
      "Non-Null Count  Dtype \n",
      "--------------  ----- \n",
      "0 non-null      object\n",
      "dtypes: object(1)\n",
      "memory usage: 233.5+ KB\n",
      "None\n"
     ]
    }
   ],
   "source": [
    "print(train[train['D_TRA1_S_Day'] == 0]['D_TRA1_1_Q6_Ar'].isnull().sum())\n",
    "print(train[train['D_TRA1_S_Day'] == 0]['D_TRA1_1_Q6_Ar'].info())"
   ]
  },
  {
   "cell_type": "markdown",
   "metadata": {},
   "source": [
    "#### 방문지와 숙박지에 대하여\n",
    "\n",
    "- 방문지 : '당일치기'\n",
    "- 숙박지 :'D_TRA1_1_Q6_Ar' \n",
    "\n",
    "- 두 데이터는 겹치지 않으므로 여행지로 통합해 관리하는것이 용이해보임. \n"
   ]
  },
  {
   "cell_type": "code",
   "execution_count": 44,
   "metadata": {},
   "outputs": [
    {
     "data": {
      "text/plain": [
       "여행지\n",
       "경상북도 경주시      525\n",
       "강원도 강릉시       505\n",
       "전라남도 여수시      438\n",
       "충청남도 보령시      421\n",
       "부산광역시 해운대구    398\n",
       "             ... \n",
       "서울특별시 중랑구       8\n",
       "강원도 양구군         7\n",
       "인천광역시 동구        7\n",
       "서울특별시 성북구       6\n",
       "인천광역시 미추홀구      6\n",
       "Name: count, Length: 229, dtype: int64"
      ]
     },
     "execution_count": 44,
     "metadata": {},
     "output_type": "execute_result"
    }
   ],
   "source": [
    "train['여행지'] = train['당일치기'].astype(str) + train['D_TRA1_1_Q6_Ar'].astype(str)\n",
    "idx_to_drop = train[train['여행지'] == 'nannan'].index\n",
    "train = train.drop(idx_to_drop)\n",
    "\n",
    "train['여행지'] = train['여행지'].str.replace('nan', '')\n",
    "train['여행지'].value_counts()\n",
    "train['여행지'].astype(object)\n",
    "\n",
    "train['여행지'].value_counts()\n"
   ]
  },
  {
   "cell_type": "code",
   "execution_count": 45,
   "metadata": {},
   "outputs": [
    {
     "name": "stdout",
     "output_type": "stream",
     "text": [
      "여행지(시/도)\n",
      "경기도        3173\n",
      "전라남도       2708\n",
      "강원도        2274\n",
      "경상남도       2223\n",
      "충청남도       2186\n",
      "경상북도       2169\n",
      "전라북도       1898\n",
      "충청북도       1179\n",
      "부산광역시      1079\n",
      "서울특별시      1028\n",
      "제주특별자치도     699\n",
      "인천광역시       596\n",
      "대전광역시       510\n",
      "대구광역시       447\n",
      "울산광역시       347\n",
      "광주광역시       238\n",
      "세종특별자치시     187\n",
      "Name: count, dtype: int64\n",
      "여행지(시/군/구)\n",
      "경주시     525\n",
      "강릉시     505\n",
      "중구      501\n",
      "여수시     438\n",
      "보령시     421\n",
      "       ... \n",
      "중랑구       8\n",
      "계룡시       8\n",
      "양구군       7\n",
      "성북구       6\n",
      "미추홀구      6\n",
      "Name: count, Length: 207, dtype: int64\n"
     ]
    }
   ],
   "source": [
    "\n",
    "train[['여행지(시/도)', '여행지(시/군/구)']] = train['여행지'].str.split(' ', expand=True)\n",
    "print(train['여행지(시/도)'].value_counts())\n",
    "print(train['여행지(시/군/구)'].value_counts())"
   ]
  },
  {
   "cell_type": "markdown",
   "metadata": {},
   "source": [
    "### 8. 동반자 \n",
    "- A7 : 동반자 수_본인포함\n",
    "- 유형 \n",
    "    - A7B_1(가족) \n",
    "    - A7B_2(친척) \n",
    "    - A7B_3(친구,연인) \n",
    "    - A7B_4(동료) \n",
    "    - A7B_5(친목단체) \n",
    "    - A7B_6(학교단체) \n",
    "    - A7B_7(기타)\n",
    "- 동반자 수 보다는 동반자 유형으로 분류하는게 나아보임\n",
    "- A7이 1일때 혼자 여행하는 유형으로 분류할 수 있도록 컬럼을 바꾸는것도 나쁘지 않아보임\n",
    "- 유형별로 컬럼을 병합하는 것도 나쁘지 않아보임\n",
    "    \n"
   ]
  },
  {
   "cell_type": "code",
   "execution_count": 46,
   "metadata": {},
   "outputs": [
    {
     "data": {
      "text/plain": [
       "A7        2995\n",
       "A7B_1    11530\n",
       "A7B_2    22535\n",
       "A7B_3    16022\n",
       "A7B_4    22553\n",
       "A7B_5    22381\n",
       "A7B_6    22927\n",
       "A7B_7    22941\n",
       "dtype: int64"
      ]
     },
     "execution_count": 46,
     "metadata": {},
     "output_type": "execute_result"
    }
   ],
   "source": [
    "companion = ['A7','A7B_1', 'A7B_2','A7B_3', 'A7B_4','A7B_5','A7B_6','A7B_7']\n",
    "train[companion].isnull().sum()"
   ]
  },
  {
   "cell_type": "code",
   "execution_count": 47,
   "metadata": {},
   "outputs": [
    {
     "data": {
      "text/plain": [
       "A7B_2    406\n",
       "A7B_4    388\n",
       "A7B_5    560\n",
       "A7B_6     14\n",
       "A7B_7      0\n",
       "dtype: int64"
      ]
     },
     "execution_count": 47,
     "metadata": {},
     "output_type": "execute_result"
    }
   ],
   "source": [
    "columns_to_drop = ['A7B_2', 'A7B_4', 'A7B_5', 'A7B_6', 'A7B_7']\n",
    "train[columns_to_drop].notnull().sum()"
   ]
  },
  {
   "cell_type": "code",
   "execution_count": 48,
   "metadata": {},
   "outputs": [
    {
     "data": {
      "text/plain": [
       "A7B_2    0\n",
       "A7B_4    0\n",
       "A7B_5    0\n",
       "A7B_6    0\n",
       "A7B_7    0\n",
       "dtype: int64"
      ]
     },
     "execution_count": 48,
     "metadata": {},
     "output_type": "execute_result"
    }
   ],
   "source": [
    "train = train.drop(train[train[columns_to_drop].notnull().any(axis=1)].index)\n",
    "train[columns_to_drop].notnull().sum()"
   ]
  },
  {
   "cell_type": "code",
   "execution_count": 49,
   "metadata": {},
   "outputs": [
    {
     "name": "stdout",
     "output_type": "stream",
     "text": [
      "A7B_1    307\n",
      "A7B_3    307\n",
      "dtype: int64\n"
     ]
    },
    {
     "data": {
      "text/html": [
       "<div>\n",
       "<style scoped>\n",
       "    .dataframe tbody tr th:only-of-type {\n",
       "        vertical-align: middle;\n",
       "    }\n",
       "\n",
       "    .dataframe tbody tr th {\n",
       "        vertical-align: top;\n",
       "    }\n",
       "\n",
       "    .dataframe thead th {\n",
       "        text-align: right;\n",
       "    }\n",
       "</style>\n",
       "<table border=\"1\" class=\"dataframe\">\n",
       "  <thead>\n",
       "    <tr style=\"text-align: right;\">\n",
       "      <th></th>\n",
       "      <th>A7B_1</th>\n",
       "      <th>A7B_3</th>\n",
       "    </tr>\n",
       "  </thead>\n",
       "  <tbody>\n",
       "    <tr>\n",
       "      <th>1181</th>\n",
       "      <td>가족(부모, 배우자, 자녀, 형제)</td>\n",
       "      <td>친구/연인</td>\n",
       "    </tr>\n",
       "    <tr>\n",
       "      <th>1191</th>\n",
       "      <td>가족(부모, 배우자, 자녀, 형제)</td>\n",
       "      <td>친구/연인</td>\n",
       "    </tr>\n",
       "    <tr>\n",
       "      <th>1221</th>\n",
       "      <td>가족(부모, 배우자, 자녀, 형제)</td>\n",
       "      <td>친구/연인</td>\n",
       "    </tr>\n",
       "    <tr>\n",
       "      <th>1261</th>\n",
       "      <td>가족(부모, 배우자, 자녀, 형제)</td>\n",
       "      <td>친구/연인</td>\n",
       "    </tr>\n",
       "    <tr>\n",
       "      <th>1310</th>\n",
       "      <td>가족(부모, 배우자, 자녀, 형제)</td>\n",
       "      <td>친구/연인</td>\n",
       "    </tr>\n",
       "    <tr>\n",
       "      <th>...</th>\n",
       "      <td>...</td>\n",
       "      <td>...</td>\n",
       "    </tr>\n",
       "    <tr>\n",
       "      <th>50834</th>\n",
       "      <td>가족(부모, 배우자, 자녀, 형제)</td>\n",
       "      <td>친구/연인</td>\n",
       "    </tr>\n",
       "    <tr>\n",
       "      <th>50973</th>\n",
       "      <td>가족(부모, 배우자, 자녀, 형제)</td>\n",
       "      <td>친구/연인</td>\n",
       "    </tr>\n",
       "    <tr>\n",
       "      <th>51631</th>\n",
       "      <td>가족(부모, 배우자, 자녀, 형제)</td>\n",
       "      <td>친구/연인</td>\n",
       "    </tr>\n",
       "    <tr>\n",
       "      <th>51760</th>\n",
       "      <td>가족(부모, 배우자, 자녀, 형제)</td>\n",
       "      <td>친구/연인</td>\n",
       "    </tr>\n",
       "    <tr>\n",
       "      <th>51769</th>\n",
       "      <td>가족(부모, 배우자, 자녀, 형제)</td>\n",
       "      <td>친구/연인</td>\n",
       "    </tr>\n",
       "  </tbody>\n",
       "</table>\n",
       "<p>307 rows × 2 columns</p>\n",
       "</div>"
      ],
      "text/plain": [
       "                     A7B_1  A7B_3\n",
       "1181   가족(부모, 배우자, 자녀, 형제)  친구/연인\n",
       "1191   가족(부모, 배우자, 자녀, 형제)  친구/연인\n",
       "1221   가족(부모, 배우자, 자녀, 형제)  친구/연인\n",
       "1261   가족(부모, 배우자, 자녀, 형제)  친구/연인\n",
       "1310   가족(부모, 배우자, 자녀, 형제)  친구/연인\n",
       "...                    ...    ...\n",
       "50834  가족(부모, 배우자, 자녀, 형제)  친구/연인\n",
       "50973  가족(부모, 배우자, 자녀, 형제)  친구/연인\n",
       "51631  가족(부모, 배우자, 자녀, 형제)  친구/연인\n",
       "51760  가족(부모, 배우자, 자녀, 형제)  친구/연인\n",
       "51769  가족(부모, 배우자, 자녀, 형제)  친구/연인\n",
       "\n",
       "[307 rows x 2 columns]"
      ]
     },
     "metadata": {},
     "output_type": "display_data"
    }
   ],
   "source": [
    "\n",
    "filtered_train = train[(train['A7B_1'].notnull()) & (train['A7B_3'].notnull())]\n",
    "print(filtered_train[['A7B_1', 'A7B_3']].count())\n",
    "display(filtered_train[['A7B_1', 'A7B_3']])"
   ]
  },
  {
   "cell_type": "code",
   "execution_count": 50,
   "metadata": {},
   "outputs": [
    {
     "name": "stdout",
     "output_type": "stream",
     "text": [
      "<class 'pandas.core.frame.DataFrame'>\n",
      "Index: 0 entries\n",
      "Columns: 2347 entries, ID to 여행지(시/군/구)\n",
      "dtypes: float64(2008), object(339)\n",
      "memory usage: 0.0+ bytes\n"
     ]
    }
   ],
   "source": [
    "\n",
    "drop_= train[(train['A7B_1'].notnull()) & (train['A7B_3'].notnull())].index\n",
    "train = train.drop(drop_)\n",
    "train[(train['A7B_1'].notnull()) & (train['A7B_3'].notnull())].info()\n"
   ]
  },
  {
   "cell_type": "code",
   "execution_count": 51,
   "metadata": {},
   "outputs": [
    {
     "name": "stdout",
     "output_type": "stream",
     "text": [
      "<class 'pandas.core.frame.DataFrame'>\n",
      "Index: 21266 entries, 7 to 52039\n",
      "Columns: 2347 entries, ID to 여행지(시/군/구)\n",
      "dtypes: float64(2008), object(339)\n",
      "memory usage: 381.0+ MB\n"
     ]
    }
   ],
   "source": [
    "train.info()"
   ]
  },
  {
   "cell_type": "code",
   "execution_count": 52,
   "metadata": {},
   "outputs": [
    {
     "data": {
      "text/plain": [
       "동반자\n",
       "가족(부모, 배우자, 자녀, 형제)    10794\n",
       "친구/연인                   6584\n",
       "없음                      3888\n",
       "Name: count, dtype: int64"
      ]
     },
     "execution_count": 52,
     "metadata": {},
     "output_type": "execute_result"
    }
   ],
   "source": [
    "# 데이터 관리를 쉽게하기위해서 '동반자'컬럼으로 병합, 위에서 중복데이터는 제거함\n",
    "train['동반자'] = train['A7B_1'].astype(str) + train['A7B_3'].astype(str)\n",
    "train['동반자'].value_counts()\n",
    "train['동반자'] = train['동반자'].str.replace('nannan', '없음')\n",
    "train['동반자'] = train['동반자'].str.replace('nan', '')\n",
    "train['동반자'].value_counts()"
   ]
  },
  {
   "cell_type": "code",
   "execution_count": 53,
   "metadata": {},
   "outputs": [],
   "source": [
    "# 항목 이름 단순화\n",
    "train['동반자'] = train['동반자'].replace({'가족(부모, 배우자, 자녀, 형제)': '가족'})"
   ]
  },
  {
   "cell_type": "code",
   "execution_count": 54,
   "metadata": {},
   "outputs": [
    {
     "data": {
      "text/plain": [
       "동반자\n",
       "가족       10794\n",
       "친구/연인     6584\n",
       "없음        3888\n",
       "Name: count, dtype: int64"
      ]
     },
     "execution_count": 54,
     "metadata": {},
     "output_type": "execute_result"
    }
   ],
   "source": [
    "train['동반자'].value_counts()"
   ]
  },
  {
   "cell_type": "code",
   "execution_count": 55,
   "metadata": {},
   "outputs": [
    {
     "data": {
      "image/png": "[encoded data removed]",
      "text/plain": [
       "<Figure size 1200x600 with 1 Axes>"
      ]
     },
     "metadata": {},
     "output_type": "display_data"
    }
   ],
   "source": [
    "plt.figure(figsize=(12, 6))\n",
    "sns.countplot(x='동반자', data=train)\n",
    "plt.title('동반자')\n",
    "plt.xlabel('동반자')\n",
    "plt.ylabel('count')\n",
    "plt.show()"
   ]
  },
  {
   "cell_type": "markdown",
   "metadata": {},
   "source": [
    "### 인원수에 대해"
   ]
  },
  {
   "cell_type": "code",
   "execution_count": 56,
   "metadata": {},
   "outputs": [
    {
     "name": "stdout",
     "output_type": "stream",
     "text": [
      "결측치 수 :  2995\n",
      "인원수가 0인값 :  0\n",
      "인원수가 1인값 :  893\n"
     ]
    },
    {
     "name": "stdout",
     "output_type": "stream",
     "text": [
      "인원수가 2인값 :  6715\n",
      "인원수가 3인값 :  4328\n",
      "인원수가 4인 이상 :  6335\n"
     ]
    }
   ],
   "source": [
    "print(\"결측치 수 : \", train['A7'].isnull().sum())\n",
    "filtered_ = train[train['A7'] == 0]\n",
    "print(\"인원수가 0인값 : \",filtered_.shape[0])\n",
    "filtered_ = train[train['A7'] == 1]\n",
    "print(\"인원수가 1인값 : \",filtered_.shape[0])\n",
    "filtered_ = train[train['A7'] == 2]\n",
    "print(\"인원수가 2인값 : \",filtered_.shape[0])\n",
    "filtered_ = train[train['A7'] == 3]\n",
    "print(\"인원수가 3인값 : \",filtered_.shape[0])\n",
    "filtered_ = train[train['A7'] > 3]\n",
    "print(\"인원수가 4인 이상 : \",filtered_.shape[0])\n"
   ]
  },
  {
   "cell_type": "markdown",
   "metadata": {},
   "source": [
    "### 9. 여행일수 'D_TRA1_S_Day'\n",
    "- 여행 유형에서 선택한 바와 같이 1차조사 데이터만 활용 \n"
   ]
  },
  {
   "cell_type": "code",
   "execution_count": 57,
   "metadata": {},
   "outputs": [
    {
     "data": {
      "text/plain": [
       "D_TRA1_S_Day\n",
       "0.0     13841\n",
       "1.0      5617\n",
       "2.0      1466\n",
       "3.0       224\n",
       "4.0        48\n",
       "7.0        15\n",
       "5.0        14\n",
       "6.0        10\n",
       "9.0         7\n",
       "10.0        5\n",
       "13.0        3\n",
       "14.0        3\n",
       "8.0         3\n",
       "12.0        2\n",
       "11.0        2\n",
       "19.0        1\n",
       "16.0        1\n",
       "30.0        1\n",
       "35.0        1\n",
       "15.0        1\n",
       "20.0        1\n",
       "Name: count, dtype: int64"
      ]
     },
     "execution_count": 57,
     "metadata": {},
     "output_type": "execute_result"
    }
   ],
   "source": [
    "train['D_TRA1_S_Day'].value_counts()"
   ]
  },
  {
   "cell_type": "code",
   "execution_count": 58,
   "metadata": {},
   "outputs": [
    {
     "data": {
      "text/plain": [
       "0"
      ]
     },
     "execution_count": 58,
     "metadata": {},
     "output_type": "execute_result"
    }
   ],
   "source": [
    "train['D_TRA1_S_Day'].isnull().sum()"
   ]
  },
  {
   "cell_type": "code",
   "execution_count": 59,
   "metadata": {},
   "outputs": [
    {
     "name": "stdout",
     "output_type": "stream",
     "text": [
      "당일치기 : 13841\n",
      "1 : 5617\n",
      "2↑ : 1808\n"
     ]
    }
   ],
   "source": [
    "t_d0 = train[train['D_TRA1_S_Day'] == 0]\n",
    "print(\"당일치기 :\", t_d0['D_TRA1_S_Day'].count())\n",
    "t_d1 = train[(train['D_TRA1_S_Day'] > 0) & (train['D_TRA1_S_Day'] < 2)]\n",
    "print(\"1 :\", t_d1['D_TRA1_S_Day'].count())\n",
    "t_d2 = train[(train['D_TRA1_S_Day'] >= 2)]\n",
    "print(\"2↑ :\", t_d2['D_TRA1_S_Day'].count())"
   ]
  },
  {
   "cell_type": "code",
   "execution_count": 60,
   "metadata": {},
   "outputs": [
    {
     "data": {
      "text/plain": [
       "여행일수\n",
       "0    13841\n",
       "1     5617\n",
       "2     1808\n",
       "Name: count, dtype: int64"
      ]
     },
     "execution_count": 60,
     "metadata": {},
     "output_type": "execute_result"
    }
   ],
   "source": [
    "bins = [-1, 0, 1, train['D_TRA1_S_Day'].max()]  \n",
    "labels = ['당일치기', '1일', '2일 이상']  \n",
    "train['여행일수'] = pd.cut(train['D_TRA1_S_Day'], bins=bins, labels=labels)\n",
    "label_dict = {'당일치기': 0, '1일': 1, '2일 이상': 2}\n",
    "train['여행일수'] = train['여행일수'].map(label_dict)\n",
    "train['여행일수'].value_counts()"
   ]
  },
  {
   "cell_type": "code",
   "execution_count": 61,
   "metadata": {},
   "outputs": [
    {
     "name": "stdout",
     "output_type": "stream",
     "text": [
      "<class 'pandas.core.frame.DataFrame'>\n",
      "Index: 1808 entries, 28 to 52009\n",
      "Columns: 2349 entries, ID to 여행일수\n",
      "dtypes: category(1), float64(2008), object(340)\n",
      "memory usage: 32.4+ MB\n"
     ]
    }
   ],
   "source": [
    "train[train['여행일수'] == 2].info()"
   ]
  },
  {
   "cell_type": "code",
   "execution_count": 62,
   "metadata": {},
   "outputs": [
    {
     "data": {
      "text/plain": [
       "여행일수\n",
       "0    13841\n",
       "1     5617\n",
       "2        0\n",
       "Name: count, dtype: int64"
      ]
     },
     "execution_count": 62,
     "metadata": {},
     "output_type": "execute_result"
    }
   ],
   "source": [
    "idx_to_drop = train[train['여행일수'] == 2].index\n",
    "train = train.drop(idx_to_drop)\n",
    "train['여행일수'].value_counts()"
   ]
  },
  {
   "cell_type": "code",
   "execution_count": 63,
   "metadata": {},
   "outputs": [
    {
     "data": {
      "image/png": "[encoded data removed]",
      "text/plain": [
       "<Figure size 1200x600 with 1 Axes>"
      ]
     },
     "metadata": {},
     "output_type": "display_data"
    }
   ],
   "source": [
    "plt.figure(figsize=(12, 6))\n",
    "sns.countplot(x='여행일수', data=train)\n",
    "plt.title('여행일수')\n",
    "plt.xlabel('여행일수')\n",
    "plt.ylabel('count')\n",
    "plt.show()"
   ]
  },
  {
   "cell_type": "markdown",
   "metadata": {},
   "source": [
    "### 10. 여행비용\n",
    "- 'D_TRA1_COST':'여행비용'"
   ]
  },
  {
   "cell_type": "code",
   "execution_count": 64,
   "metadata": {},
   "outputs": [],
   "source": [
    "train = train.rename(columns={'D_TRA1_COST': '여행비용'})"
   ]
  },
  {
   "cell_type": "code",
   "execution_count": 65,
   "metadata": {},
   "outputs": [
    {
     "name": "stdout",
     "output_type": "stream",
     "text": [
      "count    1.945800e+04\n",
      "mean     2.058573e+05\n",
      "std      1.916346e+05\n",
      "min      1.000000e+03\n",
      "25%      9.999900e+04\n",
      "50%      1.500000e+05\n",
      "75%      2.500020e+05\n",
      "max      4.040000e+06\n",
      "Name: 여행비용, dtype: float64\n"
     ]
    },
    {
     "data": {
      "image/png": "[encoded data removed]",
      "text/plain": [
       "<Figure size 640x480 with 1 Axes>"
      ]
     },
     "metadata": {},
     "output_type": "display_data"
    }
   ],
   "source": [
    "\n",
    "print(train['여행비용'].describe())\n",
    "# print(train[train['여행비용'] == 0].count())\n",
    "plt.hist(train['여행비용'], bins=10, edgecolor='black')\n",
    "plt.xlabel('여행 비용')\n",
    "plt.ylabel('빈도수')\n",
    "plt.title('여행 비용')\n",
    "plt.show()"
   ]
  },
  {
   "cell_type": "code",
   "execution_count": 66,
   "metadata": {},
   "outputs": [
    {
     "data": {
      "text/plain": [
       "여행비용\n",
       "10만원 이상 20만원 미만    6896\n",
       "10만원 미만            4870\n",
       "30만원 이상            4217\n",
       "20만원 이상 30만원 미만    3475\n",
       "Name: count, dtype: int64"
      ]
     },
     "execution_count": 66,
     "metadata": {},
     "output_type": "execute_result"
    }
   ],
   "source": [
    "bins = [0, 100000, 200000, 300000, float('inf')]\n",
    "labels = ['10만원 미만', '10만원 이상 20만원 미만', '20만원 이상 30만원 미만', '30만원 이상']\n",
    "train['여행비용'] = pd.cut(train['여행비용'], bins=bins, labels=labels, right=False)\n",
    "train['여행비용'].value_counts()"
   ]
  },
  {
   "cell_type": "code",
   "execution_count": 67,
   "metadata": {},
   "outputs": [
    {
     "data": {
      "image/png": "[encoded data removed]",
      "text/plain": [
       "<Figure size 640x480 with 1 Axes>"
      ]
     },
     "metadata": {},
     "output_type": "display_data"
    }
   ],
   "source": [
    "plt.hist(train['여행비용'], bins=10, edgecolor='black')\n",
    "plt.xlabel('여행 비용')\n",
    "plt.ylabel('빈도수')\n",
    "plt.title('여행 비용')\n",
    "plt.show()"
   ]
  },
  {
   "cell_type": "markdown",
   "metadata": {},
   "source": [
    "### 11. 여행지에서 활동 // 보류\n",
    "- A5_1 ~ A5_21\n"
   ]
  },
  {
   "cell_type": "code",
   "execution_count": 68,
   "metadata": {},
   "outputs": [
    {
     "data": {
      "text/plain": [
       "A5_1\n",
       "자연 및 풍경감상    12897\n",
       "Name: count, dtype: int64"
      ]
     },
     "execution_count": 68,
     "metadata": {},
     "output_type": "execute_result"
    }
   ],
   "source": [
    "train['A5_1'].value_counts()"
   ]
  },
  {
   "cell_type": "code",
   "execution_count": 69,
   "metadata": {},
   "outputs": [
    {
     "name": "stdout",
     "output_type": "stream",
     "text": [
      "A5_1      6561\n",
      "A5_2      9621\n",
      "A5_3     18768\n",
      "A5_4     18026\n",
      "A5_5     18481\n",
      "A5_6      9970\n",
      "A5_7     19299\n",
      "A5_8     18496\n",
      "A5_9     19051\n",
      "A5_10    19446\n",
      "A5_11    19246\n",
      "A5_12    19259\n",
      "A5_13    18942\n",
      "A5_14    19451\n",
      "A5_15    18478\n",
      "A5_16    18678\n",
      "A5_17    19307\n",
      "A5_18    16918\n",
      "A5_19    19389\n",
      "A5_20    19374\n",
      "A5_21    19279\n",
      "dtype: int64\n"
     ]
    }
   ],
   "source": [
    "null_counts = train.loc[:, 'A5_1':'A5_21'].isnull().sum()\n",
    "print(null_counts)"
   ]
  },
  {
   "cell_type": "code",
   "execution_count": 70,
   "metadata": {},
   "outputs": [
    {
     "name": "stdout",
     "output_type": "stream",
     "text": [
      "2671\n"
     ]
    }
   ],
   "source": [
    "all_null_rows = train[train.loc[:, 'A5_1':'A5_21'].isnull().all(axis=1)].shape[0]\n",
    "print(all_null_rows)"
   ]
  },
  {
   "cell_type": "markdown",
   "metadata": {},
   "source": [
    "### 최종활용 컬럼\n",
    "\n",
    "- 성별 : BSEX\n",
    "- 여행유형: D_TRA1_CASE\n",
    "- 연령 : BAGE\n",
    "- 거주지역 : BARA\n",
    "- 월별 : BMON\n",
    "- 여행지 : \"여행지\"\n",
    "- 동반자 : '동반자' \n",
    "- 여행일수 : '여행일수'\n",
    "- 여행 비용 'D_TRA1_COST' \n",
    "\n",
    "#### 보류\n",
    "- 여행지에서 활동  A5_1 ~ A5_21\n",
    "- 인원수\n",
    "\n"
   ]
  },
  {
   "cell_type": "code",
   "execution_count": 72,
   "metadata": {},
   "outputs": [
    {
     "data": {
      "text/html": [
       "<div>\n",
       "<style scoped>\n",
       "    .dataframe tbody tr th:only-of-type {\n",
       "        vertical-align: middle;\n",
       "    }\n",
       "\n",
       "    .dataframe tbody tr th {\n",
       "        vertical-align: top;\n",
       "    }\n",
       "\n",
       "    .dataframe thead th {\n",
       "        text-align: right;\n",
       "    }\n",
       "</style>\n",
       "<table border=\"1\" class=\"dataframe\">\n",
       "  <thead>\n",
       "    <tr style=\"text-align: right;\">\n",
       "      <th></th>\n",
       "      <th>BSEX</th>\n",
       "      <th>BAGE</th>\n",
       "      <th>BARA</th>\n",
       "      <th>D_TRA1_CASE</th>\n",
       "      <th>BMON</th>\n",
       "      <th>동반자</th>\n",
       "      <th>여행지(시/도)</th>\n",
       "      <th>여행지(시/군/구)</th>\n",
       "      <th>여행일수</th>\n",
       "      <th>여행비용</th>\n",
       "    </tr>\n",
       "  </thead>\n",
       "  <tbody>\n",
       "    <tr>\n",
       "      <th>7</th>\n",
       "      <td>남자</td>\n",
       "      <td>40대</td>\n",
       "      <td>서울</td>\n",
       "      <td>단순관광</td>\n",
       "      <td>1월</td>\n",
       "      <td>친구/연인</td>\n",
       "      <td>강원도</td>\n",
       "      <td>춘천시</td>\n",
       "      <td>0</td>\n",
       "      <td>10만원 이상 20만원 미만</td>\n",
       "    </tr>\n",
       "    <tr>\n",
       "      <th>12</th>\n",
       "      <td>여자</td>\n",
       "      <td>15~19세</td>\n",
       "      <td>서울</td>\n",
       "      <td>단순가족/친지/친구방문</td>\n",
       "      <td>2월</td>\n",
       "      <td>친구/연인</td>\n",
       "      <td>경기도</td>\n",
       "      <td>용인시</td>\n",
       "      <td>0</td>\n",
       "      <td>10만원 미만</td>\n",
       "    </tr>\n",
       "    <tr>\n",
       "      <th>16</th>\n",
       "      <td>여자</td>\n",
       "      <td>40대</td>\n",
       "      <td>서울</td>\n",
       "      <td>단순가족/친지/친구방문</td>\n",
       "      <td>2월</td>\n",
       "      <td>없음</td>\n",
       "      <td>경기도</td>\n",
       "      <td>용인시</td>\n",
       "      <td>1</td>\n",
       "      <td>10만원 이상 20만원 미만</td>\n",
       "    </tr>\n",
       "    <tr>\n",
       "      <th>17</th>\n",
       "      <td>남자</td>\n",
       "      <td>40대</td>\n",
       "      <td>서울</td>\n",
       "      <td>단순관광</td>\n",
       "      <td>2월</td>\n",
       "      <td>가족</td>\n",
       "      <td>경기도</td>\n",
       "      <td>안산시</td>\n",
       "      <td>0</td>\n",
       "      <td>10만원 미만</td>\n",
       "    </tr>\n",
       "    <tr>\n",
       "      <th>18</th>\n",
       "      <td>여자</td>\n",
       "      <td>60대</td>\n",
       "      <td>서울</td>\n",
       "      <td>단순관광</td>\n",
       "      <td>2월</td>\n",
       "      <td>가족</td>\n",
       "      <td>인천광역시</td>\n",
       "      <td>강화군</td>\n",
       "      <td>0</td>\n",
       "      <td>10만원 이상 20만원 미만</td>\n",
       "    </tr>\n",
       "    <tr>\n",
       "      <th>...</th>\n",
       "      <td>...</td>\n",
       "      <td>...</td>\n",
       "      <td>...</td>\n",
       "      <td>...</td>\n",
       "      <td>...</td>\n",
       "      <td>...</td>\n",
       "      <td>...</td>\n",
       "      <td>...</td>\n",
       "      <td>...</td>\n",
       "      <td>...</td>\n",
       "    </tr>\n",
       "    <tr>\n",
       "      <th>52007</th>\n",
       "      <td>남자</td>\n",
       "      <td>60대</td>\n",
       "      <td>제주</td>\n",
       "      <td>단순가족/친지/친구방문</td>\n",
       "      <td>4월</td>\n",
       "      <td>없음</td>\n",
       "      <td>제주특별자치도</td>\n",
       "      <td>제주시</td>\n",
       "      <td>0</td>\n",
       "      <td>10만원 미만</td>\n",
       "    </tr>\n",
       "    <tr>\n",
       "      <th>52029</th>\n",
       "      <td>남자</td>\n",
       "      <td>50대</td>\n",
       "      <td>제주</td>\n",
       "      <td>단순관광</td>\n",
       "      <td>6월</td>\n",
       "      <td>가족</td>\n",
       "      <td>서울특별시</td>\n",
       "      <td>구로구</td>\n",
       "      <td>1</td>\n",
       "      <td>20만원 이상 30만원 미만</td>\n",
       "    </tr>\n",
       "    <tr>\n",
       "      <th>52033</th>\n",
       "      <td>남자</td>\n",
       "      <td>50대</td>\n",
       "      <td>제주</td>\n",
       "      <td>단순관광</td>\n",
       "      <td>12월</td>\n",
       "      <td>가족</td>\n",
       "      <td>제주특별자치도</td>\n",
       "      <td>제주시</td>\n",
       "      <td>0</td>\n",
       "      <td>10만원 미만</td>\n",
       "    </tr>\n",
       "    <tr>\n",
       "      <th>52034</th>\n",
       "      <td>여자</td>\n",
       "      <td>50대</td>\n",
       "      <td>제주</td>\n",
       "      <td>단순관광</td>\n",
       "      <td>12월</td>\n",
       "      <td>가족</td>\n",
       "      <td>제주특별자치도</td>\n",
       "      <td>제주시</td>\n",
       "      <td>0</td>\n",
       "      <td>10만원 미만</td>\n",
       "    </tr>\n",
       "    <tr>\n",
       "      <th>52039</th>\n",
       "      <td>여자</td>\n",
       "      <td>40대</td>\n",
       "      <td>제주</td>\n",
       "      <td>단순관광</td>\n",
       "      <td>12월</td>\n",
       "      <td>가족</td>\n",
       "      <td>제주특별자치도</td>\n",
       "      <td>제주시</td>\n",
       "      <td>0</td>\n",
       "      <td>10만원 미만</td>\n",
       "    </tr>\n",
       "  </tbody>\n",
       "</table>\n",
       "<p>19458 rows × 10 columns</p>\n",
       "</div>"
      ],
      "text/plain": [
       "       BSEX      BAGE  BARA  ... 여행지(시/군/구) 여행일수             여행비용\n",
       "7        남자       40대    서울  ...        춘천시    0  10만원 이상 20만원 미만\n",
       "12       여자    15~19세    서울  ...        용인시    0          10만원 미만\n",
       "16       여자       40대    서울  ...        용인시    1  10만원 이상 20만원 미만\n",
       "17       남자       40대    서울  ...        안산시    0          10만원 미만\n",
       "18       여자       60대    서울  ...        강화군    0  10만원 이상 20만원 미만\n",
       "...     ...       ...   ...  ...        ...  ...              ...\n",
       "52007    남자       60대    제주  ...        제주시    0          10만원 미만\n",
       "52029    남자       50대    제주  ...        구로구    1  20만원 이상 30만원 미만\n",
       "52033    남자       50대    제주  ...        제주시    0          10만원 미만\n",
       "52034    여자       50대    제주  ...        제주시    0          10만원 미만\n",
       "52039    여자       40대    제주  ...        제주시    0          10만원 미만\n",
       "\n",
       "[19458 rows x 10 columns]"
      ]
     },
     "execution_count": 72,
     "metadata": {},
     "output_type": "execute_result"
    }
   ],
   "source": [
    "col = ['BSEX', 'BAGE','BARA', 'D_TRA1_CASE','BMON', '동반자','여행지(시/도)','여행지(시/군/구)','여행일수','여행비용']\n",
    "train = train[col]\n",
    "train"
   ]
  },
  {
   "cell_type": "code",
   "execution_count": 73,
   "metadata": {},
   "outputs": [
    {
     "data": {
      "text/html": [
       "<div>\n",
       "<style scoped>\n",
       "    .dataframe tbody tr th:only-of-type {\n",
       "        vertical-align: middle;\n",
       "    }\n",
       "\n",
       "    .dataframe tbody tr th {\n",
       "        vertical-align: top;\n",
       "    }\n",
       "\n",
       "    .dataframe thead th {\n",
       "        text-align: right;\n",
       "    }\n",
       "</style>\n",
       "<table border=\"1\" class=\"dataframe\">\n",
       "  <thead>\n",
       "    <tr style=\"text-align: right;\">\n",
       "      <th></th>\n",
       "      <th>성별</th>\n",
       "      <th>나이</th>\n",
       "      <th>거주지</th>\n",
       "      <th>여행유형</th>\n",
       "      <th>월별</th>\n",
       "      <th>동반자</th>\n",
       "      <th>여행지(시/도)</th>\n",
       "      <th>여행지(시/군/구)</th>\n",
       "      <th>숙박여부</th>\n",
       "      <th>여행비용</th>\n",
       "    </tr>\n",
       "  </thead>\n",
       "  <tbody>\n",
       "    <tr>\n",
       "      <th>7</th>\n",
       "      <td>남자</td>\n",
       "      <td>40대</td>\n",
       "      <td>서울</td>\n",
       "      <td>단순관광</td>\n",
       "      <td>1월</td>\n",
       "      <td>친구/연인</td>\n",
       "      <td>강원도</td>\n",
       "      <td>춘천시</td>\n",
       "      <td>0</td>\n",
       "      <td>10만원 이상 20만원 미만</td>\n",
       "    </tr>\n",
       "    <tr>\n",
       "      <th>12</th>\n",
       "      <td>여자</td>\n",
       "      <td>15~19세</td>\n",
       "      <td>서울</td>\n",
       "      <td>단순가족/친지/친구방문</td>\n",
       "      <td>2월</td>\n",
       "      <td>친구/연인</td>\n",
       "      <td>경기도</td>\n",
       "      <td>용인시</td>\n",
       "      <td>0</td>\n",
       "      <td>10만원 미만</td>\n",
       "    </tr>\n",
       "    <tr>\n",
       "      <th>16</th>\n",
       "      <td>여자</td>\n",
       "      <td>40대</td>\n",
       "      <td>서울</td>\n",
       "      <td>단순가족/친지/친구방문</td>\n",
       "      <td>2월</td>\n",
       "      <td>없음</td>\n",
       "      <td>경기도</td>\n",
       "      <td>용인시</td>\n",
       "      <td>1</td>\n",
       "      <td>10만원 이상 20만원 미만</td>\n",
       "    </tr>\n",
       "    <tr>\n",
       "      <th>17</th>\n",
       "      <td>남자</td>\n",
       "      <td>40대</td>\n",
       "      <td>서울</td>\n",
       "      <td>단순관광</td>\n",
       "      <td>2월</td>\n",
       "      <td>가족</td>\n",
       "      <td>경기도</td>\n",
       "      <td>안산시</td>\n",
       "      <td>0</td>\n",
       "      <td>10만원 미만</td>\n",
       "    </tr>\n",
       "    <tr>\n",
       "      <th>18</th>\n",
       "      <td>여자</td>\n",
       "      <td>60대</td>\n",
       "      <td>서울</td>\n",
       "      <td>단순관광</td>\n",
       "      <td>2월</td>\n",
       "      <td>가족</td>\n",
       "      <td>인천광역시</td>\n",
       "      <td>강화군</td>\n",
       "      <td>0</td>\n",
       "      <td>10만원 이상 20만원 미만</td>\n",
       "    </tr>\n",
       "    <tr>\n",
       "      <th>...</th>\n",
       "      <td>...</td>\n",
       "      <td>...</td>\n",
       "      <td>...</td>\n",
       "      <td>...</td>\n",
       "      <td>...</td>\n",
       "      <td>...</td>\n",
       "      <td>...</td>\n",
       "      <td>...</td>\n",
       "      <td>...</td>\n",
       "      <td>...</td>\n",
       "    </tr>\n",
       "    <tr>\n",
       "      <th>52007</th>\n",
       "      <td>남자</td>\n",
       "      <td>60대</td>\n",
       "      <td>제주</td>\n",
       "      <td>단순가족/친지/친구방문</td>\n",
       "      <td>4월</td>\n",
       "      <td>없음</td>\n",
       "      <td>제주특별자치도</td>\n",
       "      <td>제주시</td>\n",
       "      <td>0</td>\n",
       "      <td>10만원 미만</td>\n",
       "    </tr>\n",
       "    <tr>\n",
       "      <th>52029</th>\n",
       "      <td>남자</td>\n",
       "      <td>50대</td>\n",
       "      <td>제주</td>\n",
       "      <td>단순관광</td>\n",
       "      <td>6월</td>\n",
       "      <td>가족</td>\n",
       "      <td>서울특별시</td>\n",
       "      <td>구로구</td>\n",
       "      <td>1</td>\n",
       "      <td>20만원 이상 30만원 미만</td>\n",
       "    </tr>\n",
       "    <tr>\n",
       "      <th>52033</th>\n",
       "      <td>남자</td>\n",
       "      <td>50대</td>\n",
       "      <td>제주</td>\n",
       "      <td>단순관광</td>\n",
       "      <td>12월</td>\n",
       "      <td>가족</td>\n",
       "      <td>제주특별자치도</td>\n",
       "      <td>제주시</td>\n",
       "      <td>0</td>\n",
       "      <td>10만원 미만</td>\n",
       "    </tr>\n",
       "    <tr>\n",
       "      <th>52034</th>\n",
       "      <td>여자</td>\n",
       "      <td>50대</td>\n",
       "      <td>제주</td>\n",
       "      <td>단순관광</td>\n",
       "      <td>12월</td>\n",
       "      <td>가족</td>\n",
       "      <td>제주특별자치도</td>\n",
       "      <td>제주시</td>\n",
       "      <td>0</td>\n",
       "      <td>10만원 미만</td>\n",
       "    </tr>\n",
       "    <tr>\n",
       "      <th>52039</th>\n",
       "      <td>여자</td>\n",
       "      <td>40대</td>\n",
       "      <td>제주</td>\n",
       "      <td>단순관광</td>\n",
       "      <td>12월</td>\n",
       "      <td>가족</td>\n",
       "      <td>제주특별자치도</td>\n",
       "      <td>제주시</td>\n",
       "      <td>0</td>\n",
       "      <td>10만원 미만</td>\n",
       "    </tr>\n",
       "  </tbody>\n",
       "</table>\n",
       "<p>19458 rows × 10 columns</p>\n",
       "</div>"
      ],
      "text/plain": [
       "         성별        나이   거주지  ... 여행지(시/군/구) 숙박여부             여행비용\n",
       "7        남자       40대    서울  ...        춘천시    0  10만원 이상 20만원 미만\n",
       "12       여자    15~19세    서울  ...        용인시    0          10만원 미만\n",
       "16       여자       40대    서울  ...        용인시    1  10만원 이상 20만원 미만\n",
       "17       남자       40대    서울  ...        안산시    0          10만원 미만\n",
       "18       여자       60대    서울  ...        강화군    0  10만원 이상 20만원 미만\n",
       "...     ...       ...   ...  ...        ...  ...              ...\n",
       "52007    남자       60대    제주  ...        제주시    0          10만원 미만\n",
       "52029    남자       50대    제주  ...        구로구    1  20만원 이상 30만원 미만\n",
       "52033    남자       50대    제주  ...        제주시    0          10만원 미만\n",
       "52034    여자       50대    제주  ...        제주시    0          10만원 미만\n",
       "52039    여자       40대    제주  ...        제주시    0          10만원 미만\n",
       "\n",
       "[19458 rows x 10 columns]"
      ]
     },
     "execution_count": 73,
     "metadata": {},
     "output_type": "execute_result"
    }
   ],
   "source": [
    "# 컬럼 이름 변경\n",
    "train = train.rename(columns={'BSEX': '성별', 'BAGE': '나이', 'BARA' : '거주지', 'D_TRA1_CASE' : '여행유형','BMON' : '월별', '여행일수': '숙박여부'})\n",
    "train"
   ]
  },
  {
   "cell_type": "markdown",
   "metadata": {},
   "source": [
    "### 최종 결정컬럼\n",
    "성별\t나이\t거주지\t여행유형\t월별\t동반자\t여행지(시/도)\t여행지(시/군/구)\t여행일수\t여행비용"
   ]
  },
  {
   "cell_type": "code",
   "execution_count": 74,
   "metadata": {},
   "outputs": [
    {
     "data": {
      "text/html": [
       "<div>\n",
       "<style scoped>\n",
       "    .dataframe tbody tr th:only-of-type {\n",
       "        vertical-align: middle;\n",
       "    }\n",
       "\n",
       "    .dataframe tbody tr th {\n",
       "        vertical-align: top;\n",
       "    }\n",
       "\n",
       "    .dataframe thead th {\n",
       "        text-align: right;\n",
       "    }\n",
       "</style>\n",
       "<table border=\"1\" class=\"dataframe\">\n",
       "  <thead>\n",
       "    <tr style=\"text-align: right;\">\n",
       "      <th></th>\n",
       "      <th>성별</th>\n",
       "      <th>나이</th>\n",
       "      <th>거주지</th>\n",
       "      <th>여행유형</th>\n",
       "      <th>월별</th>\n",
       "      <th>동반자</th>\n",
       "      <th>여행지(시/도)</th>\n",
       "      <th>여행지(시/군/구)</th>\n",
       "      <th>숙박여부</th>\n",
       "      <th>여행비용</th>\n",
       "    </tr>\n",
       "  </thead>\n",
       "  <tbody>\n",
       "    <tr>\n",
       "      <th>7</th>\n",
       "      <td>남자</td>\n",
       "      <td>40대</td>\n",
       "      <td>서울</td>\n",
       "      <td>단순관광</td>\n",
       "      <td>1월</td>\n",
       "      <td>친구/연인</td>\n",
       "      <td>강원도</td>\n",
       "      <td>춘천시</td>\n",
       "      <td>0</td>\n",
       "      <td>10만원 이상 20만원 미만</td>\n",
       "    </tr>\n",
       "    <tr>\n",
       "      <th>12</th>\n",
       "      <td>여자</td>\n",
       "      <td>15~19세</td>\n",
       "      <td>서울</td>\n",
       "      <td>단순가족/친지/친구방문</td>\n",
       "      <td>2월</td>\n",
       "      <td>친구/연인</td>\n",
       "      <td>경기도</td>\n",
       "      <td>용인시</td>\n",
       "      <td>0</td>\n",
       "      <td>10만원 미만</td>\n",
       "    </tr>\n",
       "    <tr>\n",
       "      <th>16</th>\n",
       "      <td>여자</td>\n",
       "      <td>40대</td>\n",
       "      <td>서울</td>\n",
       "      <td>단순가족/친지/친구방문</td>\n",
       "      <td>2월</td>\n",
       "      <td>없음</td>\n",
       "      <td>경기도</td>\n",
       "      <td>용인시</td>\n",
       "      <td>1</td>\n",
       "      <td>10만원 이상 20만원 미만</td>\n",
       "    </tr>\n",
       "    <tr>\n",
       "      <th>17</th>\n",
       "      <td>남자</td>\n",
       "      <td>40대</td>\n",
       "      <td>서울</td>\n",
       "      <td>단순관광</td>\n",
       "      <td>2월</td>\n",
       "      <td>가족</td>\n",
       "      <td>경기도</td>\n",
       "      <td>안산시</td>\n",
       "      <td>0</td>\n",
       "      <td>10만원 미만</td>\n",
       "    </tr>\n",
       "    <tr>\n",
       "      <th>18</th>\n",
       "      <td>여자</td>\n",
       "      <td>60대</td>\n",
       "      <td>서울</td>\n",
       "      <td>단순관광</td>\n",
       "      <td>2월</td>\n",
       "      <td>가족</td>\n",
       "      <td>인천광역시</td>\n",
       "      <td>강화군</td>\n",
       "      <td>0</td>\n",
       "      <td>10만원 이상 20만원 미만</td>\n",
       "    </tr>\n",
       "    <tr>\n",
       "      <th>...</th>\n",
       "      <td>...</td>\n",
       "      <td>...</td>\n",
       "      <td>...</td>\n",
       "      <td>...</td>\n",
       "      <td>...</td>\n",
       "      <td>...</td>\n",
       "      <td>...</td>\n",
       "      <td>...</td>\n",
       "      <td>...</td>\n",
       "      <td>...</td>\n",
       "    </tr>\n",
       "    <tr>\n",
       "      <th>52007</th>\n",
       "      <td>남자</td>\n",
       "      <td>60대</td>\n",
       "      <td>제주</td>\n",
       "      <td>단순가족/친지/친구방문</td>\n",
       "      <td>4월</td>\n",
       "      <td>없음</td>\n",
       "      <td>제주특별자치도</td>\n",
       "      <td>제주시</td>\n",
       "      <td>0</td>\n",
       "      <td>10만원 미만</td>\n",
       "    </tr>\n",
       "    <tr>\n",
       "      <th>52029</th>\n",
       "      <td>남자</td>\n",
       "      <td>50대</td>\n",
       "      <td>제주</td>\n",
       "      <td>단순관광</td>\n",
       "      <td>6월</td>\n",
       "      <td>가족</td>\n",
       "      <td>서울특별시</td>\n",
       "      <td>구로구</td>\n",
       "      <td>1</td>\n",
       "      <td>20만원 이상 30만원 미만</td>\n",
       "    </tr>\n",
       "    <tr>\n",
       "      <th>52033</th>\n",
       "      <td>남자</td>\n",
       "      <td>50대</td>\n",
       "      <td>제주</td>\n",
       "      <td>단순관광</td>\n",
       "      <td>12월</td>\n",
       "      <td>가족</td>\n",
       "      <td>제주특별자치도</td>\n",
       "      <td>제주시</td>\n",
       "      <td>0</td>\n",
       "      <td>10만원 미만</td>\n",
       "    </tr>\n",
       "    <tr>\n",
       "      <th>52034</th>\n",
       "      <td>여자</td>\n",
       "      <td>50대</td>\n",
       "      <td>제주</td>\n",
       "      <td>단순관광</td>\n",
       "      <td>12월</td>\n",
       "      <td>가족</td>\n",
       "      <td>제주특별자치도</td>\n",
       "      <td>제주시</td>\n",
       "      <td>0</td>\n",
       "      <td>10만원 미만</td>\n",
       "    </tr>\n",
       "    <tr>\n",
       "      <th>52039</th>\n",
       "      <td>여자</td>\n",
       "      <td>40대</td>\n",
       "      <td>제주</td>\n",
       "      <td>단순관광</td>\n",
       "      <td>12월</td>\n",
       "      <td>가족</td>\n",
       "      <td>제주특별자치도</td>\n",
       "      <td>제주시</td>\n",
       "      <td>0</td>\n",
       "      <td>10만원 미만</td>\n",
       "    </tr>\n",
       "  </tbody>\n",
       "</table>\n",
       "<p>19458 rows × 10 columns</p>\n",
       "</div>"
      ],
      "text/plain": [
       "         성별        나이   거주지  ... 여행지(시/군/구) 숙박여부             여행비용\n",
       "7        남자       40대    서울  ...        춘천시    0  10만원 이상 20만원 미만\n",
       "12       여자    15~19세    서울  ...        용인시    0          10만원 미만\n",
       "16       여자       40대    서울  ...        용인시    1  10만원 이상 20만원 미만\n",
       "17       남자       40대    서울  ...        안산시    0          10만원 미만\n",
       "18       여자       60대    서울  ...        강화군    0  10만원 이상 20만원 미만\n",
       "...     ...       ...   ...  ...        ...  ...              ...\n",
       "52007    남자       60대    제주  ...        제주시    0          10만원 미만\n",
       "52029    남자       50대    제주  ...        구로구    1  20만원 이상 30만원 미만\n",
       "52033    남자       50대    제주  ...        제주시    0          10만원 미만\n",
       "52034    여자       50대    제주  ...        제주시    0          10만원 미만\n",
       "52039    여자       40대    제주  ...        제주시    0          10만원 미만\n",
       "\n",
       "[19458 rows x 10 columns]"
      ]
     },
     "execution_count": 74,
     "metadata": {},
     "output_type": "execute_result"
    }
   ],
   "source": [
    "col =['성별','나이','거주지','여행유형','월별','동반자','여행지(시/도)','여행지(시/군/구)','숙박여부','여행비용']\n",
    "train = train[col]\n",
    "train.to_csv('가공데이터.csv', index=False)\n",
    "train"
   ]
  },
  {
   "cell_type": "code",
   "execution_count": 83,
   "metadata": {},
   "outputs": [
    {
     "data": {
      "text/html": [
       "<div>\n",
       "<style scoped>\n",
       "    .dataframe tbody tr th:only-of-type {\n",
       "        vertical-align: middle;\n",
       "    }\n",
       "\n",
       "    .dataframe tbody tr th {\n",
       "        vertical-align: top;\n",
       "    }\n",
       "\n",
       "    .dataframe thead th {\n",
       "        text-align: right;\n",
       "    }\n",
       "</style>\n",
       "<table border=\"1\" class=\"dataframe\">\n",
       "  <thead>\n",
       "    <tr style=\"text-align: right;\">\n",
       "      <th></th>\n",
       "      <th>성별</th>\n",
       "      <th>나이</th>\n",
       "      <th>거주지</th>\n",
       "      <th>여행유형</th>\n",
       "      <th>월별</th>\n",
       "      <th>동반자</th>\n",
       "      <th>여행지(시/도)</th>\n",
       "      <th>여행지(시/군/구)</th>\n",
       "      <th>숙박여부</th>\n",
       "      <th>여행비용</th>\n",
       "    </tr>\n",
       "  </thead>\n",
       "  <tbody>\n",
       "    <tr>\n",
       "      <th>0</th>\n",
       "      <td>남자</td>\n",
       "      <td>40대</td>\n",
       "      <td>서울</td>\n",
       "      <td>단순관광</td>\n",
       "      <td>1월</td>\n",
       "      <td>친구/연인</td>\n",
       "      <td>강원도</td>\n",
       "      <td>춘천시</td>\n",
       "      <td>0</td>\n",
       "      <td>10만원 이상 20만원 미만</td>\n",
       "    </tr>\n",
       "    <tr>\n",
       "      <th>1</th>\n",
       "      <td>여자</td>\n",
       "      <td>15~19세</td>\n",
       "      <td>서울</td>\n",
       "      <td>단순가족/친지/친구방문</td>\n",
       "      <td>2월</td>\n",
       "      <td>친구/연인</td>\n",
       "      <td>경기도</td>\n",
       "      <td>용인시</td>\n",
       "      <td>0</td>\n",
       "      <td>10만원 미만</td>\n",
       "    </tr>\n",
       "    <tr>\n",
       "      <th>2</th>\n",
       "      <td>여자</td>\n",
       "      <td>40대</td>\n",
       "      <td>서울</td>\n",
       "      <td>단순가족/친지/친구방문</td>\n",
       "      <td>2월</td>\n",
       "      <td>없음</td>\n",
       "      <td>경기도</td>\n",
       "      <td>용인시</td>\n",
       "      <td>1</td>\n",
       "      <td>10만원 이상 20만원 미만</td>\n",
       "    </tr>\n",
       "    <tr>\n",
       "      <th>3</th>\n",
       "      <td>남자</td>\n",
       "      <td>40대</td>\n",
       "      <td>서울</td>\n",
       "      <td>단순관광</td>\n",
       "      <td>2월</td>\n",
       "      <td>가족</td>\n",
       "      <td>경기도</td>\n",
       "      <td>안산시</td>\n",
       "      <td>0</td>\n",
       "      <td>10만원 미만</td>\n",
       "    </tr>\n",
       "    <tr>\n",
       "      <th>4</th>\n",
       "      <td>여자</td>\n",
       "      <td>60대</td>\n",
       "      <td>서울</td>\n",
       "      <td>단순관광</td>\n",
       "      <td>2월</td>\n",
       "      <td>가족</td>\n",
       "      <td>인천광역시</td>\n",
       "      <td>강화군</td>\n",
       "      <td>0</td>\n",
       "      <td>10만원 이상 20만원 미만</td>\n",
       "    </tr>\n",
       "    <tr>\n",
       "      <th>...</th>\n",
       "      <td>...</td>\n",
       "      <td>...</td>\n",
       "      <td>...</td>\n",
       "      <td>...</td>\n",
       "      <td>...</td>\n",
       "      <td>...</td>\n",
       "      <td>...</td>\n",
       "      <td>...</td>\n",
       "      <td>...</td>\n",
       "      <td>...</td>\n",
       "    </tr>\n",
       "    <tr>\n",
       "      <th>19453</th>\n",
       "      <td>남자</td>\n",
       "      <td>60대</td>\n",
       "      <td>제주</td>\n",
       "      <td>단순가족/친지/친구방문</td>\n",
       "      <td>4월</td>\n",
       "      <td>없음</td>\n",
       "      <td>제주특별자치도</td>\n",
       "      <td>제주시</td>\n",
       "      <td>0</td>\n",
       "      <td>10만원 미만</td>\n",
       "    </tr>\n",
       "    <tr>\n",
       "      <th>19454</th>\n",
       "      <td>남자</td>\n",
       "      <td>50대</td>\n",
       "      <td>제주</td>\n",
       "      <td>단순관광</td>\n",
       "      <td>6월</td>\n",
       "      <td>가족</td>\n",
       "      <td>서울특별시</td>\n",
       "      <td>구로구</td>\n",
       "      <td>1</td>\n",
       "      <td>20만원 이상 30만원 미만</td>\n",
       "    </tr>\n",
       "    <tr>\n",
       "      <th>19455</th>\n",
       "      <td>남자</td>\n",
       "      <td>50대</td>\n",
       "      <td>제주</td>\n",
       "      <td>단순관광</td>\n",
       "      <td>12월</td>\n",
       "      <td>가족</td>\n",
       "      <td>제주특별자치도</td>\n",
       "      <td>제주시</td>\n",
       "      <td>0</td>\n",
       "      <td>10만원 미만</td>\n",
       "    </tr>\n",
       "    <tr>\n",
       "      <th>19456</th>\n",
       "      <td>여자</td>\n",
       "      <td>50대</td>\n",
       "      <td>제주</td>\n",
       "      <td>단순관광</td>\n",
       "      <td>12월</td>\n",
       "      <td>가족</td>\n",
       "      <td>제주특별자치도</td>\n",
       "      <td>제주시</td>\n",
       "      <td>0</td>\n",
       "      <td>10만원 미만</td>\n",
       "    </tr>\n",
       "    <tr>\n",
       "      <th>19457</th>\n",
       "      <td>여자</td>\n",
       "      <td>40대</td>\n",
       "      <td>제주</td>\n",
       "      <td>단순관광</td>\n",
       "      <td>12월</td>\n",
       "      <td>가족</td>\n",
       "      <td>제주특별자치도</td>\n",
       "      <td>제주시</td>\n",
       "      <td>0</td>\n",
       "      <td>10만원 미만</td>\n",
       "    </tr>\n",
       "  </tbody>\n",
       "</table>\n",
       "<p>19458 rows × 10 columns</p>\n",
       "</div>"
      ],
      "text/plain": [
       "         성별        나이   거주지  ... 여행지(시/군/구) 숙박여부             여행비용\n",
       "0        남자       40대    서울  ...        춘천시    0  10만원 이상 20만원 미만\n",
       "1        여자    15~19세    서울  ...        용인시    0          10만원 미만\n",
       "2        여자       40대    서울  ...        용인시    1  10만원 이상 20만원 미만\n",
       "3        남자       40대    서울  ...        안산시    0          10만원 미만\n",
       "4        여자       60대    서울  ...        강화군    0  10만원 이상 20만원 미만\n",
       "...     ...       ...   ...  ...        ...  ...              ...\n",
       "19453    남자       60대    제주  ...        제주시    0          10만원 미만\n",
       "19454    남자       50대    제주  ...        구로구    1  20만원 이상 30만원 미만\n",
       "19455    남자       50대    제주  ...        제주시    0          10만원 미만\n",
       "19456    여자       50대    제주  ...        제주시    0          10만원 미만\n",
       "19457    여자       40대    제주  ...        제주시    0          10만원 미만\n",
       "\n",
       "[19458 rows x 10 columns]"
      ]
     },
     "execution_count": 83,
     "metadata": {},
     "output_type": "execute_result"
    }
   ],
   "source": [
    "import pandas as pd\n",
    "train = pd.read_csv(\"가공데이터.csv\")\n",
    "train"
   ]
  },
  {
   "cell_type": "markdown",
   "metadata": {},
   "source": [
    "\n",
    "\n"
   ]
  }
 ],
 "metadata": {
  "kernelspec": {
   "display_name": "Python 3",
   "language": "python",
   "name": "python3"
  },
  "language_info": {
   "codemirror_mode": {
    "name": "ipython",
    "version": 3
   },
   "file_extension": ".py",
   "mimetype": "text/x-python",
   "name": "python",
   "nbconvert_exporter": "python",
   "pygments_lexer": "ipython3",
   "version": "3.12.0"
  }
 },
 "nbformat": 4,
 "nbformat_minor": 2
}
